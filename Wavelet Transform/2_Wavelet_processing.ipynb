{
 "cells": [
  {
   "cell_type": "markdown",
   "metadata": {
    "deletable": false,
    "editable": false,
    "kernel": "SoS",
    "nbgrader": {
     "cell_type": "markdown",
     "checksum": "a8900f347a4a017a196a554be4d0a117",
     "grade": false,
     "grade_id": "cell-90d5844897aa79ef",
     "locked": true,
     "schema_version": 3,
     "solution": false,
     "task": false
    }
   },
   "source": [
    "<img src=\"https://www.epfl.ch/about/overview/wp-content/uploads/2020/07/logo-epfl-1024x576.png\" style=\"padding-right:10px;width:140px;float:left\"></td>\n",
    "<h2 style=\"white-space: nowrap\">Image Processing Laboratory Notebooks</h2>\n",
    "<hr style=\"clear:both\">\n",
    "<p style=\"font-size:0.85em; margin:2px; text-align:justify\">\n",
    "This Juypter notebook is part of a series of computer laboratories which are designed\n",
    "to teach image-processing programming; they are running on the EPFL's Noto server. They are the practical complement of the theoretical lectures of the EPFL's Master course <b>Image Processing II</b> \n",
    "(<a href=\"https://moodle.epfl.ch/course/view.php?id=463\">MICRO-512</a>) taught by Dr. D. Sage, Dr. M. Liebling, Prof. M. Unser and Prof. D. Van de Ville.\n",
    "</p>\n",
    "<p style=\"font-size:0.85em; margin:2px; text-align:justify\">\n",
    "The project is funded by the Center for Digital Education and the School of Engineering. It is owned by the <a href=\"http://bigwww.epfl.ch/\">Biomedical Imaging Group</a>. \n",
    "The distribution or the reproduction of the notebook is strictly prohibited without the written consent of the authors.  &copy; EPFL 2021.\n",
    "</p>\n",
    "<p style=\"font-size:0.85em; margin:0px\"><b>Authors</b>: \n",
    "    <a href=\"mailto:pol.delaguilapla@epfl.ch\">Pol del Aguila Pla</a>, \n",
    "    <a href=\"mailto:kay.lachler@epfl.ch\">Kay Lächler</a>,\n",
    "    <a href=\"mailto:alejandro.nogueronaramburu@epfl.ch\">Alejandro Noguerón Arámburu</a>,\n",
    "    <a href=\"mailto:daniel.sage@epfl.ch\">Daniel Sage</a>, and\n",
    "    <a href=\"mailto:kamil.seghrouchni@epfl.ch\">Kamil Seghrouchni</a>.\n",
    "     \n",
    "</p>\n",
    "<hr style=\"clear:both\">\n",
    "<h1>Lab 6.2: Wavelet processing</h1>\n",
    "<div style=\"background-color:#F0F0F0;padding:4px\">\n",
    "    <p style=\"margin:4px;\"><b>Released</b>: Thursday April 28, 2022</p>\n",
    "    <p style=\"margin:4px;\"><b>Submission</b>: <span style=\"color:red\">Friday May 6, 2022</span> (before 11:59PM) on <a href=\"https://moodle.epfl.ch/course/view.php?id=463\">Moodle</a></p>\n",
    "    <p style=\"margin:4px;\"><b>Grade weigth</b> (Lab 6, 17 points): 7.5 % of the overall grade</p>\n",
    "    <p style=\"margin:4px;\"><b>Remote help</b>: Monday May 2, 2022 on Zoom (12h-13h, see Moodle for link) and Thursday May 5, on campus</p>    \n",
    "    <p style=\"margin:4px;\"><b>Related lectures</b>: Chapter 8</p>\n",
    "</div>"
   ]
  },
  {
   "cell_type": "markdown",
   "metadata": {
    "kernel": "SoS"
   },
   "source": [
    "### Student Name: Guanqun LIU\n",
    "### SCIPER: 334988\n",
    "\n",
    "Double-click on this cell and fill your name and SCIPER number. Then, run the cell below to verify your identity in Noto and set the seed for random results."
   ]
  },
  {
   "cell_type": "code",
   "execution_count": 1,
   "metadata": {
    "deletable": false,
    "editable": false,
    "nbgrader": {
     "cell_type": "code",
     "checksum": "d52796925bd877083419082bd81afd19",
     "grade": true,
     "grade_id": "cell-a5cd438011c0014e",
     "locked": true,
     "points": 0,
     "schema_version": 3,
     "solution": false,
     "task": false
    }
   },
   "outputs": [
    {
     "name": "stdout",
     "output_type": "stream",
     "text": [
      "SCIPER: 334988\n"
     ]
    }
   ],
   "source": [
    "import getpass\n",
    "# This line recovers your camipro number to mark the images with your ID\n",
    "uid = int(getpass.getuser().split('-')[2]) if len(getpass.getuser().split('-')) > 2 else ord(getpass.getuser()[0])\n",
    "print(f'SCIPER: {uid}')"
   ]
  },
  {
   "cell_type": "markdown",
   "metadata": {
    "deletable": false,
    "editable": false,
    "nbgrader": {
     "cell_type": "markdown",
     "checksum": "a66aa72d897af6addae8d408903d70d9",
     "grade": false,
     "grade_id": "cell-3b60588aab6df011",
     "locked": true,
     "schema_version": 3,
     "solution": false,
     "task": false
    }
   },
   "source": [
    "## <a name=\"imports_\"></a> Imports\n",
    "\n",
    "Just as in Part 1, in the next two cells we will import the libraries and images that we will use throughout the notebook. Moreover, we will load an extra library (`lab6`) with the functions we declared on Part 1 that we will now reuse. Run these cells to get your environment ready.\n",
    "\n",
    "<div class='alert alert-success'>\n",
    "\n",
    "<b>Note:</b> As mentioned in <a href=\"./1_Wavelet_transform.ipynb\">Part 1</a> of the lab, every exercise of the lab is designed to work and be tested independently of any other exercises. This is why in [<code>lab6.py</code>](lab6.py) we have included only the PyWavelets functions and not the ones you implemented. Moreover, the function <code>norm_std_map</code> is left incomplete. If you think you implemented it correctly, simply copy paste it there by opening the file <code>lab6.py</code> using the left pane's file explorer. Then you will be able to use it just like in <a href=\"./1_Wavelet_transform.ipynb\">Part 1</a> by changing which line you comment in the cell below the imports. If you make any changes to <code>lab6.py</code>, make sure to save them and restart the kernel in this notebook to import it again.\n",
    "</div>\n",
    "\n",
    "<div class='alert alert-danger'> \n",
    "    \n",
    "<b>Note</b>: We will not ask you to submit <code>lab6.py</code>. Therefore, do not make any changes there that are required for your lab to work. If, for example, you want to use your filterbank implementation of the wavelet transform, simply copy it in the soluction cell after the imports cell.\n",
    "</div>"
   ]
  },
  {
   "cell_type": "code",
   "execution_count": 2,
   "metadata": {
    "deletable": false,
    "editable": false,
    "kernel": "SoS",
    "nbgrader": {
     "cell_type": "code",
     "checksum": "2731179b3bd91720fa65e0233b888231",
     "grade": false,
     "grade_id": "cell-912ca8608a4cce92",
     "locked": true,
     "schema_version": 3,
     "solution": false,
     "task": false
    }
   },
   "outputs": [],
   "source": [
    "# Configure plotting as dynamic\n",
    "%matplotlib widget\n",
    "\n",
    "# Import standard required packages for this exercise\n",
    "import matplotlib.pyplot as plt\n",
    "import ipywidgets as widgets\n",
    "import numpy as np\n",
    "import cv2 as cv \n",
    "import scipy.ndimage as ndi\n",
    "import pywt\n",
    "\n",
    "# Standard general python libraries\n",
    "from scipy import stats\n",
    "from skimage import data\n",
    "import math\n",
    "import sys  \n",
    "\n",
    "# ImageViewer & functions from first part\n",
    "from interactive_kit import imviewer as viewer\n",
    "import lab6\n",
    "\n",
    "# Load images to be used in this exercise\n",
    "doisneau = cv.imread('images/doisneau.tif', cv.IMREAD_UNCHANGED).astype('float64')\n",
    "doisneau_noise = cv.imread('images/doisneau-noise.tif', cv.IMREAD_UNCHANGED).astype('float64')\n",
    "mit_coef = cv.imread('images/mit-coef.tif', cv.IMREAD_UNCHANGED).astype('float64')\n",
    "lowlight = cv.imread('images/lowlight.tif', cv.IMREAD_UNCHANGED).astype('float64')\n",
    "mer_de_glace = cv.imread('images/mer-de-glace.tif', cv.IMREAD_UNCHANGED).astype('float64')"
   ]
  },
  {
   "cell_type": "code",
   "execution_count": 3,
   "metadata": {},
   "outputs": [],
   "source": [
    "# Choose colormap to use throughout the lab\n",
    "# Here, you can choose to use the norm_std_map you implemented in Part 1, if you copy it to lab6.py\n",
    "color_map = lab6.non_uniform_map\n",
    "# color_map = lab6.norm_std_map\n",
    "\n",
    "# If you wanna reuse your functions, copy them here instead of in lab6.py"
   ]
  },
  {
   "cell_type": "markdown",
   "metadata": {
    "deletable": false,
    "editable": false,
    "kernel": "JavaScript",
    "nbgrader": {
     "cell_type": "markdown",
     "checksum": "dbcd463851198bdda8be2cd01307ef50",
     "grade": false,
     "grade_id": "cell-3bfd756ac33ae4d5",
     "locked": true,
     "schema_version": 3,
     "solution": false,
     "task": false
    }
   },
   "source": [
    "## Wavelet processing (8 points)\n",
    "\n",
    "In this laboratory we propose to study some applications of the wavelet transform, namely denoising and compression.\n",
    "\n",
    "## <a id=\"ToC_2_WT\"></a> Table of contents\n",
    "1. [Processing the wavelet coefficients](#1.-Processing-the-wavelet-coefficients-(3-points)) \n",
    "    1. [Keeping the low frequency band](#1.A.-Keeping-the-low-frequency-band-(1-point)) (**1 point**)\n",
    "    2. [Keeping the high frequency bands](#1.B.-Keeping-the-high-frequency-bands-(2-points)) (**2 points**)\n",
    "2. [Denoising](#2.-Denoising-(3-points))\n",
    "    1. [Soft thresholding](#2.A.-Soft-thresholding-(1-point)) (**1 point**)\n",
    "    2. [Hard thresholding](#2.B.-Hard-thresholding-(1-point)) (**1 point**)\n",
    "    3. [Optimal threshold](#2.C.-Optimal-threshold-(1-point)) (**1 point**)\n",
    "3. [Compression](#3.-Compression-(2-points)) (**2 points**)\n",
    "\n",
    "\n",
    "## 1. Processing the wavelet coefficients (3 points)\n",
    "[Back to table of contents](#ToC_2_WT)\n",
    "\n",
    "In this section we will propose two very simple operations:\n",
    "* **Keeping the low frequency band:** This operation will set to zero all the high frequency components, regardless their direction,\n",
    "* **Keeping the high frequency bands:** This operation will keep only some of the high frequency components.  \n",
    "\n",
    "<div class = \"alert alert-success\">\n",
    "    \n",
    "<b>Note:</b> We will give you some freedom to choose how you want to implement these functions. You can take advantage of <code>lab6.pywt_analysis(img, n, wavelet)</code>, use <code>pywt.dwt2</code>, or reuse your own functions (filterbanks or polyphase implementation). What we will require is to take advantage of vectorization in NumPy. In other words, <span style=\"color:red\"> we <b>DO NOT</b> accept loops iterating through NumPy arrays, which will be considered an incorrect solution in <b>ALL</b> the exercises in this lab.</span> Remember that this is because Python is a vectorized, high-level language, and iterating NumPy Arrays is very slow. \n",
    "</div>\n",
    "\n",
    "<div class = \"alert alert-danger\">\n",
    "    \n",
    "<b>Note:</b> Remember to make sure that your implementations work for both square and rectangular images.\n",
    "</div>\n",
    "\n",
    "### 1.A. Keeping the low frequency band (1 point)\n",
    "[Back to table of contents](#ToC_2_WT)\n",
    "\n",
    "This operation is intended to totally remove the high frequency coefficients (vertical, horizontal and diagonal) at every scale. **For 1 point**, complete the function `lowpass` below, where the parameters are\n",
    "* `img`: the image, \n",
    "* `filterbank` (a tuple of length 4): the 4 wavelet filters, as `(analysis_lp, analysis_hp, synthesis_lp, synthesis_hp)`. If you are not going to use the filterbank implementation, you can simply ignore this parameter, which will take its default value and never be used,\n",
    "* `n`: the number of iterations of the wavelet transform,\n",
    "* `wavelet` (a string): the wavelet family to be used by PyWavelets (see the [options](https://pywavelets.readthedocs.io/en/latest/ref/wavelets.html#built-in-wavelets-wavelist)). If you are not going to use PyWavelets, you can ignore this parameter, which will take its default value and never be used,\n",
    "\n",
    "and returns\n",
    "* `output`: an image of the same size as `img`, that results from applying the inverse wavelet transform after keeping only the LL coefficients (setting the HL, LH, and HH coefficients to $0$),\n",
    "* `ll_transform`: an image of the same size as `img`, containing the wavelet transform, but where everything except the LL coefficient is set to zero. The purpose of this image is for you to visually test that your function is doing the right thing. \n",
    "\n",
    "<div class = \"alert alert-info\">\n",
    "    \n",
    "<b>Note:</b> <ul><li>These exercises are a combination of content we have practiced in <a href=\"./1_Wavelet_transform.ipynb\">Part 1</a> and pixel-wise operations we studied in <a href=\"https://moodle.epfl.ch/course/view.php?id=522\">IP 1</a>. If you have any doubt, we recommend you look back at <a href=\"./Introductory.ipynb\">Lab 0: Introductory</a> and <a href=\"./Pixel_Fourier.ipynb\">Lab 1: Pixel-wise operations and the Fourier transform</a>.</li><li>Note that while there is only one LL, its size depends on the number of iterations of the wavelet transform. </li></ul>\n",
    "</div>\n",
    "\n",
    "<div class = 'alert alert-success'>\n",
    "\n",
    "<b>Note:</b> Make sure to declare a proper filterbank in the cell below if you intend to use one (we recommend to start with the Haar filterbank, but we did already give you the filters to implement DB2 in Part 1). Otherwise, just ignore the corresponding variables, but make sure that everything runs properly.\n",
    "</div>"
   ]
  },
  {
   "cell_type": "code",
   "execution_count": 67,
   "metadata": {
    "deletable": false,
    "kernel": "SoS",
    "nbgrader": {
     "cell_type": "code",
     "checksum": "33723b5dc55180c1fdda6b945c6181f3",
     "grade": false,
     "grade_id": "cell-64161a9c60e84317",
     "locked": false,
     "schema_version": 3,
     "solution": true,
     "task": false
    }
   },
   "outputs": [],
   "source": [
    "# Here, you can copy your filterbank implementation, if you want to use it at your own risk\n",
    "\n",
    "# Declare global variables to be used later. You can modify these at anytime, or just ignore them\n",
    "analysis_lp = np.array([1/np.sqrt(2), 1/np.sqrt(2)])\n",
    "analysis_hp = np.array([-1/np.sqrt(2), 1/np.sqrt(2)])\n",
    "synthesis_lp = np.array([1/np.sqrt(2), 1/np.sqrt(2)])\n",
    "synthesis_hp = np.array([1/np.sqrt(2), -1/np.sqrt(2)])\n",
    "filterbank = (analysis_lp, analysis_hp, synthesis_lp, synthesis_hp)\n",
    "wavelet = 'haar'\n",
    "\n",
    "def lowpass(img, filterbank = (np.array([0]), np.array([0]), np.array([0]), np.array([0])), n = 1, wavelet = 'haar'):\n",
    "    # Allocate output variables\n",
    "    output = np.zeros((img.shape))\n",
    "    ll_transform = np.zeros((img.shape))\n",
    "    # Collect filters from filterbank\n",
    "    analysis_lp, analysis_hp, synthesis_lp, synthesis_hp = filterbank\n",
    "    \n",
    "    # Get the wavelet transform, put all but the LL coefficients to 0, and get the inverse wavelet transform\n",
    "    output = lab6.pywt_analysis(img, n, wavelet='haar')\n",
    "    \n",
    "    div = 2**(n-1)\n",
    "    ny, nx = np.array(img.shape) / div\n",
    "    ny, nx = int(ny), int(nx)\n",
    "    \n",
    "    ll_transform = np.copy(output)\n",
    "    ll_transform[:ny//2, nx//2:] = 0\n",
    "    ll_transform[ny//2:, :] = 0\n",
    "    output[:ny//2, nx//2:] = 0\n",
    "    output[ny//2:, :] = 0\n",
    "    \n",
    "    output = lab6.pywt_synthesis(output, n, wavelet = 'haar')\n",
    "    \n",
    "    return output, ll_transform"
   ]
  },
  {
   "cell_type": "markdown",
   "metadata": {
    "deletable": false,
    "editable": false,
    "kernel": "Python3",
    "nbgrader": {
     "cell_type": "markdown",
     "checksum": "a02b3f8d61e7a4fe9ba38e3c68a05e24",
     "grade": false,
     "grade_id": "cell-512021bd4501aff3",
     "locked": true,
     "schema_version": 3,
     "solution": false,
     "task": false
    }
   },
   "source": [
    "Now we are going to visualize the result. Run the two next cells to apply your function to the image `doisneau_noise` with $n = 1$ and `mer_de_glace` with $n = 3$. We will then plot the original image, the wavelet transform and the reconstruction from only the LL coefficients. \n",
    "\n",
    "<div class = \"alert alert-success\">\n",
    "    \n",
    "<b>Note:</b> Look at the details in different regions of the image by zooming in and then changing image (the zoomed area will remain). Look at the different effects on regions of low and high variation. Ask yourself, what changes do you see? would you consider this method a good denoising technique? why do we need the high frequency coefficients?\n",
    "</div>"
   ]
  },
  {
   "cell_type": "code",
   "execution_count": 34,
   "metadata": {
    "deletable": false,
    "editable": false,
    "kernel": "SoS",
    "nbgrader": {
     "cell_type": "code",
     "checksum": "461d63e7e460029e6e97e1ff30c7cf41",
     "grade": true,
     "grade_id": "cell-9671ee1b92702d6c",
     "locked": true,
     "points": 0.5,
     "schema_version": 3,
     "solution": false,
     "task": false
    }
   },
   "outputs": [
    {
     "data": {
      "application/vnd.jupyter.widget-view+json": {
       "model_id": "d4e249712c3844bda99e37db0c954dba",
       "version_major": 2,
       "version_minor": 0
      },
      "text/plain": [
       "HBox(children=(Output(layout=Layout(width='80%')), Output(), Output(layout=Layout(width='25%'))))"
      ]
     },
     "metadata": {},
     "output_type": "display_data"
    }
   ],
   "source": [
    "# Test lowpass n = 1\n",
    "output_1, ll_transform_1 = lowpass(doisneau_noise, filterbank = filterbank, n = 1, wavelet = 'haar')\n",
    "\n",
    "image_list = [doisneau_noise, output_1, ll_transform_1]\n",
    "title_list = ['Original', 'Reconstruction from only LL (n = 1)', 'Wavelet transform (n = 1, keeping only LL)']\n",
    "plt.close(\"all\")\n",
    "lowpass_viewer = viewer(image_list, title = title_list, widgets = True)"
   ]
  },
  {
   "cell_type": "code",
   "execution_count": 104,
   "metadata": {
    "deletable": false,
    "editable": false,
    "nbgrader": {
     "cell_type": "code",
     "checksum": "a69daa5c899b68f09d99e904ad5c415b",
     "grade": true,
     "grade_id": "cell-5dc0c0c9e45f8517",
     "locked": true,
     "points": 0.5,
     "schema_version": 3,
     "solution": false,
     "task": false
    }
   },
   "outputs": [
    {
     "data": {
      "application/vnd.jupyter.widget-view+json": {
       "model_id": "34990fea94694bc0bcd8a4f25fffc264",
       "version_major": 2,
       "version_minor": 0
      },
      "text/plain": [
       "HBox(children=(Output(layout=Layout(width='80%')), Output(), Output(layout=Layout(width='25%'))))"
      ]
     },
     "metadata": {},
     "output_type": "display_data"
    }
   ],
   "source": [
    "# Test lowpass n = 3\n",
    "output_3, ll_transform_3 = lowpass(mer_de_glace, filterbank, n = 3)\n",
    "\n",
    "image_list = [mer_de_glace, output_3, ll_transform_3]\n",
    "title_list = ['Original', 'Reconstruction from only LL (n = 3)', 'Wavelet transform (n = 3, keeping only LL)']\n",
    "plt.close(\"all\")\n",
    "lowpass_viewer = viewer(image_list, title = title_list, widgets = True)"
   ]
  },
  {
   "cell_type": "markdown",
   "metadata": {
    "deletable": false,
    "editable": false,
    "kernel": "SoS",
    "nbgrader": {
     "cell_type": "markdown",
     "checksum": "97a70937121358359644ab5102ef3ca5",
     "grade": false,
     "grade_id": "cell-0f997dd19c5a1c08",
     "locked": true,
     "schema_version": 3,
     "solution": false,
     "task": false
    }
   },
   "source": [
    "### 1.B. Keeping the high frequency bands (2 points)\n",
    "[Back to table of contents](#ToC_2_WT)\n",
    "\n",
    "In this subsection, we are going to do the conceptual opposite to the last exercise: we are going to keep only the high-frequency coefficients ($HL_n$, $LH_n$ and $HH_n$) at a specific scale. We want you to understand and exploit the concept of multiresolution, by selecting a specific *order* or scale of the high-frequency coefficients. **The $n^{th}$ order corresponds to the high-frequency coefficients (vertical, horizontal and diagonal) that are generated when applying the $n^{th}$ iteration of the wavelet transform**.\n",
    "\n",
    "Run the next cell to visualize an example of what we mean. We will apply the wavelet transform with $n = 4$, and **highlight in green the $2^{nd}$ order high-frequency coefficients**. "
   ]
  },
  {
   "cell_type": "code",
   "execution_count": 36,
   "metadata": {
    "deletable": false,
    "editable": false,
    "kernel": "SoS",
    "nbgrader": {
     "cell_type": "code",
     "checksum": "3bc59e3079fbcfe433154d86c342529b",
     "grade": false,
     "grade_id": "cell-6d9f33a00cd6f6b6",
     "locked": true,
     "schema_version": 3,
     "solution": false,
     "task": false
    }
   },
   "outputs": [
    {
     "data": {
      "application/vnd.jupyter.widget-view+json": {
       "model_id": "42c35cd06c89460d94ade2acd3d7ba9f",
       "version_major": 2,
       "version_minor": 0
      },
      "text/plain": [
       "HBox(children=(Output(layout=Layout(width='80%')), Output(), Output(layout=Layout(width='25%'))))"
      ]
     },
     "metadata": {},
     "output_type": "display_data"
    },
    {
     "data": {
      "application/vnd.jupyter.widget-view+json": {
       "model_id": "1b243140eddf4699a64caced6d90006e",
       "version_major": 2,
       "version_minor": 0
      },
      "text/plain": [
       "Button(description='Show Widgets', style=ButtonStyle())"
      ]
     },
     "metadata": {},
     "output_type": "display_data"
    }
   ],
   "source": [
    "# Example of the coefficients we excpet when we asked you to keep the 2nd order H coefficients.\n",
    "\n",
    "# First we get the transform\n",
    "wt = lab6.pywt_analysis(doisneau, n = 4, wavelet = 'haar')\n",
    "# Apply selected colormap\n",
    "wt = lab6.map_color(wt, n = 4, color_map = color_map)/255\n",
    "# Green overlay\n",
    "# Grayscale in RGB\n",
    "rgb_wt = np.stack((wt, wt, wt), axis=2)\n",
    "# Set alpha\n",
    "rgb_wt[128:256,0:256,0] = 0.45; rgb_wt[128:256,0:256,2] = 0.45\n",
    "rgb_wt[0:128,128:256,0] = 0.45; rgb_wt[0:128,128:256,2] = 0.45\n",
    "\n",
    "plt.close('all')\n",
    "order_example_viewer = viewer(rgb_wt, title = ['2nd order high-frequency coefficients (green overlay)'])"
   ]
  },
  {
   "cell_type": "markdown",
   "metadata": {
    "deletable": false,
    "editable": false,
    "kernel": "SoS",
    "nbgrader": {
     "cell_type": "markdown",
     "checksum": "4ad0d1a6be205a71a3c9e49aa386342b",
     "grade": false,
     "grade_id": "cell-823fea0354bc2d0b",
     "locked": true,
     "schema_version": 3,
     "solution": false,
     "task": false
    }
   },
   "source": [
    "**For 1 point**, complete the function `highpass`, where the parameters are\n",
    "* `img`: the original image,\n",
    "* `n`: the number of iterations of the wavelet transform,\n",
    "* `order`: the scale from which the high-frequency coefficients should be extracted,\n",
    "* `filterbank` (a tuple of length 4): the 4 wavelet filters, as `(analysis_lp, analysis_hp, synthesis_lp, synthesis_hp)`. Just like for the function `lowpass`, these are only relevant when using the filterbank implementation,\n",
    "* `wavelet` (a string): the wavelet family to be used by PyWavelets. Just like for the function `lowpass`, this is only relevant when using the PyWavelets implementation,\n",
    "\n",
    "and the function returns\n",
    "* `output`: an array of the same size as `img`, that results from applying the inverse wavelet transform after keeping only high-frequency coefficients of order `order` (see the explanations above).\n",
    "* `h_transform`: an image of the same size as `img`, containing the wavelet transform, but where **everything except the high-frequency coefficients of order `order` is set to $0$**. The purpose of this image is for you to visually test that your function is doing the right thing."
   ]
  },
  {
   "cell_type": "code",
   "execution_count": 101,
   "metadata": {
    "deletable": false,
    "kernel": "SoS",
    "nbgrader": {
     "cell_type": "code",
     "checksum": "3c695e0a721389dc60a91d6e1fe06865",
     "grade": false,
     "grade_id": "cell-db805f9fabc4db32",
     "locked": false,
     "schema_version": 3,
     "solution": true,
     "task": false
    }
   },
   "outputs": [],
   "source": [
    "def highpass(img,  n=1, order=1, filterbank=(np.array([0]),np.array([0]),np.array([0]),np.array([0])), wavelet='haar'):\n",
    "    # Allocate output variables\n",
    "    output = np.zeros((img.shape))\n",
    "    h_transform = np.zeros((img.shape))\n",
    "    # Collect filters from filterbank\n",
    "    analysis_lp, analysis_hp, synthesis_lp, synthesis_hp = filterbank\n",
    "    # Ensure that order exists in transform\n",
    "    if order > n:\n",
    "        raise Exception(f'The wavelet transform of order {n} has no high-frequency coefficients of order {order}.')\n",
    "        \n",
    "    # YOUR CODE HERE\n",
    "    output = lab6.pywt_analysis(img, n, wavelet='haar')\n",
    "    # test = lab6.pywt_analysis(img, n, wavelet='haar')\n",
    "    \n",
    "    div_order = 2**(order-1)\n",
    "    ny_order, nx_order = np.array(img.shape) / div_order\n",
    "    ny_order, nx_order = int(ny_order), int(nx_order)\n",
    "    \n",
    "    h_transform = np.copy(output)\n",
    "    h_transform[nx_order//2:nx_order, :ny_order] = 0\n",
    "    h_transform[:nx_order//2, ny_order//2:ny_order] = 0\n",
    "    \n",
    "    output[:nx_order//2, :ny_order//2] = 0\n",
    "    output[:nx_order, ny_order:] = 0\n",
    "    output[nx_order:, :ny_order] = 0\n",
    "    # test[:nx_order//2, :ny_order//2] = 0\n",
    "    # test[:nx_order, ny_order:] = 0\n",
    "    # test[nx_order:, :] = 0\n",
    "    \n",
    "    output = lab6.pywt_synthesis(img, n, wavelet='haar')\n",
    "    \n",
    "    return output, h_transform"
   ]
  },
  {
   "cell_type": "markdown",
   "metadata": {
    "deletable": false,
    "editable": false,
    "nbgrader": {
     "cell_type": "markdown",
     "checksum": "f04bedf1eebcf5331caee193d93b279c",
     "grade": false,
     "grade_id": "cell-c68515ef8656e015",
     "locked": true,
     "schema_version": 3,
     "solution": false,
     "task": false
    }
   },
   "source": [
    "Run the next cell to run your function `highpass` with $\\mathrm{n} = 1$ and $\\mathrm{order} = 1$ on the image `lowlight` and visualize the results. We will show the reconstruction, the wavelet transform `h_transform`, and the original image. If you have a hard time visualizing the images, make sure to use the *Brightness & Contrast* slider to find a better range of visualization, or try a different colormap. "
   ]
  },
  {
   "cell_type": "code",
   "execution_count": 102,
   "metadata": {
    "deletable": false,
    "editable": false,
    "nbgrader": {
     "cell_type": "code",
     "checksum": "148b1a29afc79a87c99cc47e274ce76a",
     "grade": true,
     "grade_id": "cell-4f9b9ce6ed30a530",
     "locked": true,
     "points": 0.5,
     "schema_version": 3,
     "solution": false,
     "task": false
    }
   },
   "outputs": [
    {
     "data": {
      "application/vnd.jupyter.widget-view+json": {
       "model_id": "c3c23516b8eb4d4ca40282f18480d475",
       "version_major": 2,
       "version_minor": 0
      },
      "text/plain": [
       "HBox(children=(Output(layout=Layout(width='80%')), Output(), Output(layout=Layout(width='25%'))))"
      ]
     },
     "metadata": {},
     "output_type": "display_data"
    }
   ],
   "source": [
    "# Test highpass (n = 1)\n",
    "output, wt = highpass(lowlight, n = 1, order = 1, filterbank = filterbank, wavelet = wavelet)\n",
    "wt = lab6.map_color(wt, n = 1, color_map = color_map)\n",
    "image_list = [lowlight, output, wt]\n",
    "title_list = ['Original', \"Reconstruction\", 'Wavelet transform high-frequency bands (order 1)']\n",
    "highpass_viewer = viewer(image_list, title = title_list, widgets=True)"
   ]
  },
  {
   "cell_type": "markdown",
   "metadata": {
    "deletable": false,
    "editable": false,
    "kernel": "SoS",
    "nbgrader": {
     "cell_type": "markdown",
     "checksum": "01f53cc3b7346a1a0f4709cf69123cc3",
     "grade": false,
     "grade_id": "cell-5c160057d20ce7f5",
     "locked": true,
     "schema_version": 3,
     "solution": false,
     "task": false
    }
   },
   "source": [
    "Great! Now we want to really dig into the meaning of multiresolution. In the next cell, you will have the option to plot in a *viewer*  the original image, the selected band of the wavelet transform, and the reconstruction from this band. You will see the following widgets\n",
    "\n",
    "* *Wavelet order slider*: to select the order of the wavelet transform,\n",
    "* *Band slider*: to select the order of the band you want to keep. If it is higher than the wavelet order, that one will get updated too,\n",
    "* *Mode dropdown menu*: to select whether you want to plot the reconstruction or the selected high-frequency component in the wavelet transform,\n",
    "* *Wavelet transform dropdown menu*: to select which wavelet family to use. This will only work if you used PyWavelets in your functions,\n",
    "* *Colormap dropdown menu*: to select which colormap to apply to both the wavelet transform and the reconstruction. Note that the `'Normalize std'` option will only appear if you have implemented it in `lab6.py`.\n",
    "\n",
    "Run the next cell to initialize this viewer. Remember to click on `Apply highpass` to show the results of the options you selected. We will use the image `doisneau`. Try to apply a high order of the wavelet transform, and see how the reconstruction looks when using different bands.  \n",
    "\n",
    "<div class = \"alert alert-info\">\n",
    "    \n",
    "<b>Hint</b>: Try to zoom to a region in the original image, and see if you can find a corresponding pattern in the reconstruction.\n",
    "    \n",
    "<b>Note</b>: As you probably have noticed, in general the wavelet transform <i>does not</i> have the same range of values as the image, but the reconstruction does. Since we are removing the LL coefficients, however, the reconstruction will not have the original range of values anymore. This is why we also use the colormap to display it.\n",
    "    \n",
    "<b>Note</b>: If you want to recover the original, just click on the button <code>Reset</code>.\n",
    "</div>"
   ]
  },
  {
   "cell_type": "code",
   "execution_count": 103,
   "metadata": {
    "deletable": false,
    "editable": false,
    "kernel": "SoS",
    "nbgrader": {
     "cell_type": "code",
     "checksum": "8a89b88cc492bffe2a81af04a245563c",
     "grade": true,
     "grade_id": "cell-79561eaa109e078c",
     "locked": true,
     "points": 0.5,
     "schema_version": 3,
     "solution": false,
     "task": false
    }
   },
   "outputs": [
    {
     "data": {
      "application/vnd.jupyter.widget-view+json": {
       "model_id": "ecf81d8ff82742b3a4ff5bc2ee06d525",
       "version_major": 2,
       "version_minor": 0
      },
      "text/plain": [
       "HBox(children=(Output(layout=Layout(width='80%')), Output(), Output(layout=Layout(width='25%'))))"
      ]
     },
     "metadata": {},
     "output_type": "display_data"
    }
   ],
   "source": [
    "## Declare extra widgets\n",
    "# Sliders\n",
    "wt_slider = widgets.IntSlider(value = 1, min = 1, max = 5, step = 1, description = 'Wavelet order')\n",
    "band_slider = widgets.IntSlider(value = 1, min = 1, max = 5, step = 1, description = 'H bands order')\n",
    "## Menus\n",
    "iwt_menu = widgets.Dropdown(options = ['Reconstruction', 'Wavelet transform'], value = 'Reconstruction')\n",
    "# Check if you use PyWavelets\n",
    "if np.allclose( highpass(doisneau, n=1, order=1, filterbank=filterbank, wavelet='haar'), \n",
    "                highpass(doisneau, n=1, order=1, filterbank=filterbank, wavelet='db2')):\n",
    "    wt_menu = widgets.Dropdown(options = ['haar'], value = 'haar')\n",
    "else:\n",
    "    wt_menu  = widgets.Dropdown(options = ['haar', 'db2', 'db10', 'bior1.3', 'bior6.8', 'rbio1.3', 'dmey'], \n",
    "                           value = 'haar')\n",
    "# Check if you have defined Normalize std in lab6.py\n",
    "rand_array = np.random.randn(10,10)\n",
    "if np.allclose(lab6.norm_std_map(rand_array), rand_array):\n",
    "    colormap_menu = widgets.Dropdown(options = ['Non-uniform map', 'None'], value = 'None')\n",
    "else:\n",
    "    colormap_menu = widgets.Dropdown(options = ['Normalize std', 'Non-uniform map', 'None'], value = 'None')\n",
    "# Buttons\n",
    "button = widgets.Button(description = 'Apply highpass')\n",
    "# Widget array\n",
    "new_widgets = [wt_slider, band_slider, iwt_menu, colormap_menu, wt_menu, button]\n",
    "# Callback function\n",
    "def order_callback(img):\n",
    "    # Extract orders\n",
    "    n = wt_slider.value\n",
    "    order = band_slider.value\n",
    "    # If n is not high enough, fix it\n",
    "    if order > n:\n",
    "        wt_slider.value = band_slider.value\n",
    "        n = order\n",
    "    # Extract wavelet family\n",
    "    wavelet = wt_menu.value\n",
    "    # Compute\n",
    "    rec, wt = highpass(img, n = n, order = order, filterbank = filterbank, wavelet = wavelet)\n",
    "    # Apply \n",
    "    if colormap_menu.value == 'Normalize std':\n",
    "        wt = lab6.map_color(wt, n = 0, color_map = lab6.norm_std_map)\n",
    "        rec = lab6.norm_std_map(rec)\n",
    "    elif colormap_menu.value == 'Non-uniform map':\n",
    "        wt = lab6.map_color(wt, n = 0, color_map = lab6.non_uniform_map)\n",
    "        rec = lab6.non_uniform_map(rec)\n",
    "    if iwt_menu.value == 'Wavelet transform':\n",
    "        return wt\n",
    "    else:\n",
    "        return rec\n",
    "\n",
    "plt.close('all')\n",
    "highpass_viewer = viewer(doisneau, widgets = True, new_widgets = new_widgets, callbacks = [order_callback])"
   ]
  },
  {
   "cell_type": "markdown",
   "metadata": {
    "deletable": false,
    "editable": false,
    "kernel": "SoS",
    "nbgrader": {
     "cell_type": "markdown",
     "checksum": "8a91f2ca768c2526c5e7265bbaa65238",
     "grade": false,
     "grade_id": "cell-0357b9752c6b6103",
     "locked": true,
     "schema_version": 3,
     "solution": false,
     "task": false
    }
   },
   "source": [
    "### Multiple Choice Questions\n",
    "\n",
    "What were your observations? Did you recover the original image? What did you recover? To finish this section, answer the next MCQ **worth 1 point**.\n",
    "  \n",
    "* Q1: What would you consider the most direct application of selecting only one or more high-frequency coefficients for reconstruction? \n",
    "\n",
    "    1. Edge detection,\n",
    "    2. denoising,\n",
    "    3. compression, \n",
    "    4. or enhancement."
   ]
  },
  {
   "cell_type": "code",
   "execution_count": 105,
   "metadata": {
    "deletable": false,
    "kernel": "SoS",
    "nbgrader": {
     "cell_type": "code",
     "checksum": "ee5fe729da36ffed2947fea668aadff3",
     "grade": false,
     "grade_id": "cell-90194e835e36a048",
     "locked": false,
     "schema_version": 3,
     "solution": true,
     "task": false
    }
   },
   "outputs": [],
   "source": [
    "### Modify these variables\n",
    "answer = 3\n",
    "# YOUR CODE HERE"
   ]
  },
  {
   "cell_type": "markdown",
   "metadata": {
    "deletable": false,
    "editable": false,
    "kernel": "SoS",
    "nbgrader": {
     "cell_type": "markdown",
     "checksum": "634af6d3e99f01288ea16707cc9766ec",
     "grade": false,
     "grade_id": "cell-1c57ff8a0e5fa547",
     "locked": true,
     "schema_version": 3,
     "solution": false,
     "task": false
    }
   },
   "source": [
    "Run the next cell to verify that your answer is valid."
   ]
  },
  {
   "cell_type": "code",
   "execution_count": 106,
   "metadata": {
    "deletable": false,
    "editable": false,
    "kernel": "SoS",
    "nbgrader": {
     "cell_type": "code",
     "checksum": "4c48798b357d9e2b7db836712695b023",
     "grade": true,
     "grade_id": "cell-b678416997c3437c",
     "locked": true,
     "points": 1,
     "schema_version": 3,
     "solution": false,
     "task": false
    }
   },
   "outputs": [],
   "source": [
    "# Sanity check\n",
    "assert answer in [1, 2, 3, 4], 'Choose one of 1, 2, 3 or 4.'"
   ]
  },
  {
   "cell_type": "markdown",
   "metadata": {
    "deletable": false,
    "editable": false,
    "kernel": "SoS",
    "nbgrader": {
     "cell_type": "markdown",
     "checksum": "b59dbbfa5f2dbb0e4f40c51874d7d20e",
     "grade": false,
     "grade_id": "cell-eb2e56703fc1b783",
     "locked": true,
     "schema_version": 3,
     "solution": false,
     "task": false
    }
   },
   "source": [
    "Even though we asked for two specific *band* operations, there are a lot of interesting ones that you can try. What would you see if you keep only the diagonal high-frequency coefficients (HH)? Or mix coefficients from different orders and LL? \n",
    "\n",
    "If you are curious, use the next empty cell to experiment or to confirm your hypothesis. Recycle any code you want! "
   ]
  },
  {
   "cell_type": "code",
   "execution_count": null,
   "metadata": {
    "kernel": "SoS"
   },
   "outputs": [],
   "source": []
  },
  {
   "cell_type": "markdown",
   "metadata": {
    "deletable": false,
    "editable": false,
    "kernel": "SoS",
    "nbgrader": {
     "cell_type": "markdown",
     "checksum": "777e5ca3dea389263050472574258949",
     "grade": false,
     "grade_id": "cell-ba1113422736a6f5",
     "locked": true,
     "schema_version": 3,
     "solution": false,
     "task": false
    }
   },
   "source": [
    "## 2. Denoising (3 points)\n",
    "[Back to table of contents](#ToC_2_WT)\n",
    "\n",
    "As you probably noticed, while the functions `lowpass` and `highpass` can have different applications, neither of them is really useful for denoising. In this section, we will see the most used methods for wavelet denoising, i.e.,\n",
    "* soft thresholding, and\n",
    "* hard thresholding.\n",
    "\n",
    "Moreover, we will see a method to determine the optimal threshold in the wavelet domain to denoise an image.\n",
    "\n",
    "For tests, we will compare your implementations directly against the implementation from PyWavelets. In particular, we will compare to the function [`pywt.threshold()`](https://pywavelets.readthedocs.io/en/latest/ref/thresholding-functions.html), which takes as parameters\n",
    "* `data`: an array to threshold. In this context, the wavelet transform,\n",
    "* `value`: a threshold value,\n",
    "* `mode` (a string): threshold type. Defaults to `'soft'`, but this is only one of the possibilities. Look at the documentation or keep solving the notebook for further options,\n",
    "* `substitute`: value to which to set pixels with current values lower than the threshold. Defaults to $0$,\n",
    "\n",
    "and returns\n",
    "* `output`: an array of the same size as `data`, where the specified thresholding method has been applied.\n",
    "\n",
    "<div class = 'alert alert-danger'>\n",
    "\n",
    "<b>Note</b> Naturally, for the graded exercises, it is <b>strictly forbidden</b> to use the function <code>pywt.threshold</code>, and we <b>will not</b> count answers containing such function as correct.\n",
    "</div>\n",
    "\n",
    "### 2.A. Soft thresholding (1 point)\n",
    "[Back to table of contents](#ToC_2_WT)\n",
    "\n",
    "Soft thresholding is a technique that, while removing elements with absolute value smaller than a certain $T$, tries to ensure that smoothness is preserved. It is defined element-wise for $x\\in\\mathbb{R}$ as\n",
    "\n",
    "$$\\mathrm{t}(x) = \\mathrm{sign}(x) \\, \\mathrm{max}\\lbrace 0, |x|-T\\rbrace\\,,$$\n",
    "\n",
    "where $T$ is the threshold value. \n",
    "\n",
    "Run the next cell to view an example of how it looks using PyWavelets. In it, we will prepare an axis array and apply the function `pywt.threshold` to it. This will build the typical shape of the soft thresholding function. For visualization purposes, we also keep the line $y=x$ as a reference. "
   ]
  },
  {
   "cell_type": "code",
   "execution_count": 107,
   "metadata": {
    "deletable": false,
    "editable": false,
    "kernel": "SoS",
    "nbgrader": {
     "cell_type": "code",
     "checksum": "14d86cdf2e67b6ef5b446d2479838ea9",
     "grade": false,
     "grade_id": "cell-c52e1a6525f60fa6",
     "locked": true,
     "schema_version": 3,
     "solution": false,
     "task": false
    }
   },
   "outputs": [
    {
     "data": {
      "application/vnd.jupyter.widget-view+json": {
       "model_id": "c295d10f2621436eac7a4c0fa20b4d98",
       "version_major": 2,
       "version_minor": 0
      },
      "image/png": "[encoded data removed]",
      "text/plain": [
       "Canvas(toolbar=Toolbar(toolitems=[('Home', 'Reset original view', 'home', 'home'), ('Pan', 'Pan axes with left…"
      ]
     },
     "metadata": {},
     "output_type": "display_data"
    }
   ],
   "source": [
    "# Set x axis\n",
    "test = np.arange(-10, 10, 0.01)\n",
    "# Handle matplotlib objects\n",
    "plt.close(\"all\"); fig = plt.figure(); ax = plt.gca()\n",
    "# Plot reference\n",
    "ax.plot(test, test, label = r'$y=x$')\n",
    "# Plot soft thresholding\n",
    "soft_thr_test = pywt.threshold(test, value = 1, mode='soft')\n",
    "ax.plot(test, soft_thr_test, label = 'Soft thresholding for T=1 (PyWavelets)')\n",
    "# Set grid and legend\n",
    "ax.grid(); ax.legend(loc='upper left'); ax.set_xlabel(\"Input\"); ax.set_ylabel(\"Output\"); plt.show()"
   ]
  },
  {
   "cell_type": "markdown",
   "metadata": {
    "deletable": false,
    "editable": false,
    "kernel": "SoS",
    "nbgrader": {
     "cell_type": "markdown",
     "checksum": "df5857a33f186e98c5594f680eaaa2d1",
     "grade": false,
     "grade_id": "cell-c67430582541d9f5",
     "locked": true,
     "schema_version": 3,
     "solution": false,
     "task": false
    }
   },
   "source": [
    "Now, for **1 point**, code the function `threshold_soft(img, T)`, where the parameters are\n",
    "* `img`: an image to be thresholded, \n",
    "* `T`: the value at which to threshold,\n",
    "\n",
    "and returns the variable `output`, a NumPy Array of the same size as `img`, where soft thresholding has been applied.\n",
    "\n",
    "<div class='alert alert-info'>\n",
    "    \n",
    "<b>Hint:</b> Try the function <a href='https://numpy.org/doc/stable/reference/generated/numpy.maximum.html'><code>np.maximum</code></a>.\n",
    "</div>"
   ]
  },
  {
   "cell_type": "code",
   "execution_count": 108,
   "metadata": {
    "deletable": false,
    "kernel": "SoS",
    "nbgrader": {
     "cell_type": "code",
     "checksum": "7333a64184ecde52bbb63b8691e7f3d6",
     "grade": false,
     "grade_id": "cell-b701ff3a0ecf167f",
     "locked": false,
     "schema_version": 3,
     "solution": true,
     "task": false
    }
   },
   "outputs": [],
   "source": [
    "def threshold_soft(img, T):\n",
    "    output = np.copy(img)\n",
    "    \n",
    "    # YOUR CODE HERE\n",
    "    output = np.sign(img) * np.maximum(0, np.abs(img)-T)\n",
    "    \n",
    "    return output"
   ]
  },
  {
   "cell_type": "markdown",
   "metadata": {
    "deletable": false,
    "editable": false,
    "kernel": "SoS",
    "nbgrader": {
     "cell_type": "markdown",
     "checksum": "ec16fa718c838bc41dd38327a8e137b5",
     "grade": false,
     "grade_id": "cell-58e9748ff408b4be",
     "locked": true,
     "schema_version": 3,
     "solution": false,
     "task": false
    }
   },
   "source": [
    "As a first test on your function, we will try to replicate the previous plot using your function. Run the next cell to see if you get the same results."
   ]
  },
  {
   "cell_type": "code",
   "execution_count": 109,
   "metadata": {
    "deletable": false,
    "editable": false,
    "kernel": "SoS",
    "nbgrader": {
     "cell_type": "code",
     "checksum": "d589922f457f5b88564dc6e671fb2e69",
     "grade": false,
     "grade_id": "cell-f12b921afbf07d4e",
     "locked": true,
     "schema_version": 3,
     "solution": false,
     "task": false
    }
   },
   "outputs": [
    {
     "data": {
      "application/vnd.jupyter.widget-view+json": {
       "model_id": "e4dce1af24bf4eaa9d431f819c12ae02",
       "version_major": 2,
       "version_minor": 0
      },
      "image/png": "[encoded data removed]",
      "text/plain": [
       "Canvas(toolbar=Toolbar(toolitems=[('Home', 'Reset original view', 'home', 'home'), ('Pan', 'Pan axes with left…"
      ]
     },
     "metadata": {},
     "output_type": "display_data"
    }
   ],
   "source": [
    "# Set x axis\n",
    "test = np.arange(-10, 10, 0.01)\n",
    "# Handle matplotlib objects\n",
    "plt.close(\"all\"); fig = plt.figure(); ax = plt.gca()\n",
    "# Plot reference\n",
    "ax.plot(test, test, label = r'$y=x$')\n",
    "# Plot soft thresholding\n",
    "soft_thr = threshold_soft(test, T = 1)\n",
    "ax.plot(test, soft_thr, label = 'Soft thresholding for T=1 (yours)')\n",
    "# Set grid and legend\n",
    "ax.grid(); ax.legend(loc='upper left'); ax.set_xlabel(\"Input\"); ax.set_ylabel(\"Output\"); plt.show()"
   ]
  },
  {
   "cell_type": "markdown",
   "metadata": {
    "deletable": false,
    "editable": false,
    "kernel": "SoS",
    "nbgrader": {
     "cell_type": "markdown",
     "checksum": "21ca8797422e23a1d99730796404280e",
     "grade": false,
     "grade_id": "cell-ed0d3358b1cbc011",
     "locked": true,
     "schema_version": 3,
     "solution": false,
     "task": false
    }
   },
   "source": [
    "Now run the next cell to look at the results of your thresholding and of PyWavelets thresholding. Look at the wavelet transform and its inverse. Is soft thresholding a better denoising method than just keeping the LL coefficients? \n",
    "\n",
    "For you to explore these issues, we will again use the image `doisneau_noise` with $n = 2$ and an arbitrary threshold of $50$. We will plot\n",
    "* the noisless image, `doisneau`, as ground truth, \n",
    "* the noisy image `doisneau_noise`,\n",
    "* the reconstruction using your soft thresholding,\n",
    "* the reconstruction using PyWavelet's soft thresholding,\n",
    "* the wavelet transform,\n",
    "* your thresholding of the wavelet transform,\n",
    "* PyWT's thresholding of the wavelet transform.\n",
    "\n",
    "<div class = 'alert alert-warning'>\n",
    "\n",
    "<b>Notes:</b> \n",
    "<ul>\n",
    "<li> We are <b>not</b> suggesting that the value of $50$ is ideal. Rather, we want the effect to be very noticeable. See\n",
    "    <a href=\"#2.C.-Optimal-threshold-(1-point)\">Section 2.C.</a> to address the question of optimal thresholding.</li>\n",
    "    \n",
    "<li> In this particular viewer, we want the effect to be very visual in the wavelet transform. Thus, we apply a colormap. This implies that the statistics, including the histogram, are not representative of the thresholded transforms.</li>\n",
    "</ul>\n",
    "</div>"
   ]
  },
  {
   "cell_type": "code",
   "execution_count": 110,
   "metadata": {
    "deletable": false,
    "editable": false,
    "kernel": "SoS",
    "nbgrader": {
     "cell_type": "code",
     "checksum": "3999060428b824971d49dbadadf2976a",
     "grade": true,
     "grade_id": "cell-a03a4cfc34da8e7d",
     "locked": true,
     "points": 1,
     "schema_version": 3,
     "solution": false,
     "task": false
    }
   },
   "outputs": [
    {
     "data": {
      "application/vnd.jupyter.widget-view+json": {
       "model_id": "c408c7935c3344289940a380130fa385",
       "version_major": 2,
       "version_minor": 0
      },
      "text/plain": [
       "HBox(children=(Output(layout=Layout(width='80%')), Output(), Output(layout=Layout(width='25%'))))"
      ]
     },
     "metadata": {},
     "output_type": "display_data"
    }
   ],
   "source": [
    "# First we get the WT\n",
    "transform = lab6.pywt_analysis(doisneau_noise, n = 2, wavelet = 'haar')\n",
    "\n",
    "# Now we will apply both your and PyWavelet thresholding functions to the transform with an arbitrary threshold\n",
    "student_thr = threshold_soft(transform, T = 50)\n",
    "pywt_thr = pywt.threshold(transform, value = 50, mode='soft')\n",
    "\n",
    "# Get the respective inverse transforms\n",
    "student_iwt = lab6.pywt_synthesis(student_thr, n = 2, wavelet = 'haar')\n",
    "pywt_iwt = lab6.pywt_synthesis(pywt_thr, n = 2, wavelet = 'haar')\n",
    "\n",
    "# Enhance visualization\n",
    "transform = lab6.map_color(transform, n = 2, color_map = color_map)\n",
    "student_thr = lab6.map_color(student_thr, n = 2, color_map = color_map)\n",
    "pywt_thr = lab6.map_color(pywt_thr, n = 2, color_map = color_map)\n",
    "\n",
    "# Plot\n",
    "plt.close('all')\n",
    "image_list =  [doisneau, doisneau_noise, student_iwt, pywt_iwt, transform, student_thr, pywt_thr ]\n",
    "title_list = ['Noiseless image', 'Noisy image', 'Your reconstruction', \"PyWavelets' reconstruction\", 'Wavelet transform', 'Your thresholded transform', \"PyWavelets' thresholded transform\"]\n",
    "softthr_viewer = viewer(image_list, title = title_list, widgets = True)"
   ]
  },
  {
   "cell_type": "markdown",
   "metadata": {
    "deletable": false,
    "editable": false,
    "kernel": "SoS",
    "nbgrader": {
     "cell_type": "markdown",
     "checksum": "7a27903e24bb54780af08b1791db6b7c",
     "grade": false,
     "grade_id": "cell-462586ffbba28106",
     "locked": true,
     "schema_version": 3,
     "solution": false,
     "task": false
    }
   },
   "source": [
    "Now run the next cell for the comparison with PyWavelets. If your answer is correct, it should not raise an error."
   ]
  },
  {
   "cell_type": "code",
   "execution_count": 111,
   "metadata": {
    "deletable": false,
    "editable": false,
    "kernel": "SoS",
    "nbgrader": {
     "cell_type": "code",
     "checksum": "48f9bada1e2ffa087fea82299ddd867c",
     "grade": false,
     "grade_id": "cell-f6dd2e9ee6378837",
     "locked": true,
     "schema_version": 3,
     "solution": false,
     "task": false
    }
   },
   "outputs": [
    {
     "name": "stdout",
     "output_type": "stream",
     "text": [
      "Congratulations! You are getting really good at wavelets.\n"
     ]
    }
   ],
   "source": [
    "np.testing.assert_array_almost_equal(pywt_thr, student_thr, decimal = 4, err_msg = \"Your results and PyWavelet's are not the same.\")\n",
    "print('Congratulations! You are getting really good at wavelets.')"
   ]
  },
  {
   "cell_type": "markdown",
   "metadata": {
    "deletable": false,
    "editable": false,
    "kernel": "SoS",
    "nbgrader": {
     "cell_type": "markdown",
     "checksum": "119aed11ae63b4db39a8a322d93ceb4d",
     "grade": false,
     "grade_id": "cell-755e9d850c586d64",
     "locked": true,
     "schema_version": 3,
     "solution": false,
     "task": false
    }
   },
   "source": [
    "### 2.B. Hard thresholding (1 point)\n",
    "[Back to table of contents](#ToC_2_WT)\n",
    "\n",
    "Hard thresholding is another technique to attenuate the smallest coefficients of the wavelet transform, and thus, get rid of the noise. Unlike soft thresholding technique, hard thresholding **does not** try to preserve the smoothness in the values of the transform. It simply puts to zero all the coefficients with an absolute value smaller than a certain $T$, and leave the ones that are bigger or equal than $T$ untouched, as shown by the following formula:\n",
    "\n",
    "$$t_{h}(x) =\n",
    "    \\begin{cases}\n",
    "        0 \\mbox{   if   } |x|<\\operatorname{T}, \\\\\n",
    "        x \\mbox{        }\\mathrm{otherwise}\n",
    "     \\end{cases}\n",
    "     $$\n",
    "\n",
    "Run the next cell to see how this looks when we use PyWavelets `pywt.threshold` function."
   ]
  },
  {
   "cell_type": "code",
   "execution_count": 112,
   "metadata": {
    "deletable": false,
    "editable": false,
    "kernel": "SoS",
    "nbgrader": {
     "cell_type": "code",
     "checksum": "165959ccf05a63bdf8928b699f826c9d",
     "grade": false,
     "grade_id": "cell-742ca80842a41966",
     "locked": true,
     "schema_version": 3,
     "solution": false,
     "task": false
    }
   },
   "outputs": [
    {
     "data": {
      "application/vnd.jupyter.widget-view+json": {
       "model_id": "2fb70a3188dc49ecb57ef767cc4296ae",
       "version_major": 2,
       "version_minor": 0
      },
      "image/png": "[encoded data removed]",
      "text/plain": [
       "Canvas(toolbar=Toolbar(toolitems=[('Home', 'Reset original view', 'home', 'home'), ('Pan', 'Pan axes with left…"
      ]
     },
     "metadata": {},
     "output_type": "display_data"
    }
   ],
   "source": [
    "# Set x axis\n",
    "test = np.arange(-10, 10, 0.01)\n",
    "# Handle matplotlib objects\n",
    "plt.close(\"all\"); fig = plt.figure(); ax = plt.gca()\n",
    "# Plot reference\n",
    "ax.plot(test, test, label = r'$y=x$')\n",
    "# Plot soft thresholding\n",
    "hard_thr_test = pywt.threshold(test, value = 1, mode='hard')\n",
    "ax.plot(test, hard_thr_test, label = 'Hard thresholding for T=1 (PyWavelets)')\n",
    "# Set grid and legend\n",
    "ax.grid(); ax.legend(loc='upper left'); ax.set_xlabel(\"Input\"); ax.set_ylabel(\"Output\"); plt.show()"
   ]
  },
  {
   "cell_type": "markdown",
   "metadata": {
    "deletable": false,
    "editable": false,
    "kernel": "SoS",
    "nbgrader": {
     "cell_type": "markdown",
     "checksum": "67ab06e8c2847fbbbf4dd1c2708fe345",
     "grade": false,
     "grade_id": "cell-ea8492c900598dc6",
     "locked": true,
     "schema_version": 3,
     "solution": false,
     "task": false
    }
   },
   "source": [
    "For **1 point**, code the function `threshold_hard(img, T)`, where the parameters are\n",
    "* `img`: an image to be thresholded, \n",
    "* `T`: the value at which to threshold,\n",
    "\n",
    "and the function returns\n",
    "* `output`: an image of the same size as `img`, where hard thresholding has been applied.\n",
    "\n",
    "<div class = \"alert alert-danger\">\n",
    "    \n",
    "<b>Note</b>: Code the hard threshold in an <i>exclusive</i> way. That is, if a coefficient has absolute value <b>exactly equal to T, it should not be put to zero</b>.\n",
    "</div>"
   ]
  },
  {
   "cell_type": "code",
   "execution_count": 113,
   "metadata": {
    "deletable": false,
    "kernel": "SoS",
    "nbgrader": {
     "cell_type": "code",
     "checksum": "f960249dd0fdc186ad05b6eefb64a8b3",
     "grade": false,
     "grade_id": "cell-d39e99f8d6e2f768",
     "locked": false,
     "schema_version": 3,
     "solution": true,
     "task": false
    }
   },
   "outputs": [],
   "source": [
    "def threshold_hard(img, T):\n",
    "    output = np.copy(img)\n",
    "    \n",
    "    # YOUR CODE HERE\n",
    "    output[np.less(np.abs(img), T)] = 0\n",
    "    \n",
    "    return output"
   ]
  },
  {
   "cell_type": "markdown",
   "metadata": {
    "deletable": false,
    "editable": false,
    "kernel": "SoS",
    "nbgrader": {
     "cell_type": "markdown",
     "checksum": "161fc60cf3638e5a6bc296bdcba885e4",
     "grade": false,
     "grade_id": "cell-9599309772716c12",
     "locked": true,
     "schema_version": 3,
     "solution": false,
     "task": false
    }
   },
   "source": [
    "Now run the next cell, and see if you can recover the lineshape that we showed in the previous plot. "
   ]
  },
  {
   "cell_type": "code",
   "execution_count": 114,
   "metadata": {
    "deletable": false,
    "editable": false,
    "kernel": "SoS",
    "nbgrader": {
     "cell_type": "code",
     "checksum": "9310788a921b3c9573c0fea21f535097",
     "grade": false,
     "grade_id": "cell-e068d70089e606c1",
     "locked": true,
     "schema_version": 3,
     "solution": false,
     "task": false
    }
   },
   "outputs": [
    {
     "data": {
      "application/vnd.jupyter.widget-view+json": {
       "model_id": "ecc9c706cf89405093a12bf774ae894b",
       "version_major": 2,
       "version_minor": 0
      },
      "image/png": "[encoded data removed]",
      "text/plain": [
       "Canvas(toolbar=Toolbar(toolitems=[('Home', 'Reset original view', 'home', 'home'), ('Pan', 'Pan axes with left…"
      ]
     },
     "metadata": {},
     "output_type": "display_data"
    }
   ],
   "source": [
    "# Set x axis\n",
    "test = np.arange(-10, 10, 0.01)\n",
    "# Handle matplotlib objects\n",
    "plt.close(\"all\"); fig = plt.figure(); ax = plt.gca()\n",
    "# Plot reference\n",
    "ax.plot(test, test, label = r'$y=x$')\n",
    "# Plot hard thresholding\n",
    "hard_thr_test = threshold_hard(test, T = 1)\n",
    "ax.plot(test, hard_thr_test, label = 'Hard thresholding for T=1 (yours)')\n",
    "# Set grid and legend\n",
    "ax.grid(); ax.legend(loc='upper left'); ax.set_xlabel(\"Input\"); ax.set_ylabel(\"Output\"); plt.show()"
   ]
  },
  {
   "cell_type": "markdown",
   "metadata": {
    "deletable": false,
    "editable": false,
    "kernel": "SoS",
    "nbgrader": {
     "cell_type": "markdown",
     "checksum": "95c64fd2df5cdef94ace4db18e1bd459",
     "grade": false,
     "grade_id": "cell-22fe8e0418a4a2ce",
     "locked": true,
     "schema_version": 3,
     "solution": false,
     "task": false
    }
   },
   "source": [
    "We are going to test your function in a similar way as we did for the soft threshold. Run the next cell to apply the hard threshold on the wavelet transform of `doisneau_noise`, with the same parameters as we used for soft thresholding. As with [soft thresholding](#2.A.-Soft-thresholding-(1-point)), we will apply a colormap, and thus, the statistics, including the histogram, are not representative of the thresholded transforms."
   ]
  },
  {
   "cell_type": "code",
   "execution_count": 115,
   "metadata": {
    "deletable": false,
    "editable": false,
    "kernel": "SoS",
    "nbgrader": {
     "cell_type": "code",
     "checksum": "53f1fc6f3cdc02716585d81fae275a55",
     "grade": true,
     "grade_id": "cell-515699f212853cf1",
     "locked": true,
     "points": 1,
     "schema_version": 3,
     "solution": false,
     "task": false
    }
   },
   "outputs": [
    {
     "data": {
      "application/vnd.jupyter.widget-view+json": {
       "model_id": "47a3a2ebdede4eb3b9bde5d7b346ccc1",
       "version_major": 2,
       "version_minor": 0
      },
      "text/plain": [
       "HBox(children=(Output(layout=Layout(width='80%')), Output(), Output(layout=Layout(width='25%'))))"
      ]
     },
     "metadata": {},
     "output_type": "display_data"
    }
   ],
   "source": [
    "# First we get the WT\n",
    "transform = lab6.pywt_analysis(doisneau_noise, n = 2, wavelet = 'haar')\n",
    "\n",
    "# Now we will apply both your and PyWavelet thresholding functions to the transform with an arbitrary threshold\n",
    "student_thr = threshold_hard(transform, T = 50)\n",
    "pywt_thr = pywt.threshold(transform, value = 50, mode='hard')\n",
    "\n",
    "# Get the respective inverse transforms\n",
    "student_iwt = lab6.pywt_synthesis(student_thr, n = 2, wavelet = 'haar')\n",
    "pywt_iwt = lab6.pywt_synthesis(pywt_thr, n = 2, wavelet = 'haar')\n",
    "\n",
    "# Enhance visualization\n",
    "transform = lab6.map_color(transform, n = 2, color_map = color_map)\n",
    "student_thr = lab6.map_color(student_thr, n = 2, color_map = color_map)\n",
    "pywt_thr = lab6.map_color(pywt_thr, n = 2, color_map = color_map)\n",
    "\n",
    "# Plot\n",
    "plt.close('all')\n",
    "image_list =  [doisneau, doisneau_noise, student_iwt, pywt_iwt, transform, student_thr, pywt_thr ]\n",
    "title_list = ['Noiseless image', 'Noisy image', 'Your reconstruction', \"PyWT's reconstruction\", 'Wavelet transform', 'Your thresholded transform', \"PyWT's thresholded transform\"]\n",
    "softthr_viewer = viewer(image_list, title = title_list, widgets = True)"
   ]
  },
  {
   "cell_type": "markdown",
   "metadata": {
    "deletable": false,
    "editable": false,
    "kernel": "SoS",
    "nbgrader": {
     "cell_type": "markdown",
     "checksum": "11e9614095ac33bb9b01f08cb29ab468",
     "grade": false,
     "grade_id": "cell-512252765568c3e1",
     "locked": true,
     "schema_version": 3,
     "solution": false,
     "task": false
    }
   },
   "source": [
    "Finally, we are going to compare your function against PyWavelets' on the wavelet transform of `doisneau_noise`. Run the next cell and if it does not throw any error, your implementation is likely correct. "
   ]
  },
  {
   "cell_type": "code",
   "execution_count": 116,
   "metadata": {
    "deletable": false,
    "editable": false,
    "kernel": "SoS",
    "nbgrader": {
     "cell_type": "code",
     "checksum": "d85c0fa527e2eaa52953b57787e420f8",
     "grade": false,
     "grade_id": "cell-bd288df50901f05b",
     "locked": true,
     "schema_version": 3,
     "solution": false,
     "task": false
    }
   },
   "outputs": [
    {
     "name": "stdout",
     "output_type": "stream",
     "text": [
      "Congratulations! You are getting even better at wavelets.\n"
     ]
    }
   ],
   "source": [
    "np.testing.assert_array_almost_equal(pywt_thr, student_thr, decimal = 4, \n",
    "                 err_msg = 'Your results and PyWT\\'s are not the same. Look for the differences in the viewer above!')\n",
    "print('Congratulations! You are getting even better at wavelets.')"
   ]
  },
  {
   "cell_type": "markdown",
   "metadata": {
    "deletable": false,
    "editable": false,
    "kernel": "SoS",
    "nbgrader": {
     "cell_type": "markdown",
     "checksum": "7d0bb609aeb4dcdde34a8ab52489017d",
     "grade": false,
     "grade_id": "cell-f63b5e9501bbdc49",
     "locked": true,
     "schema_version": 3,
     "solution": false,
     "task": false
    }
   },
   "source": [
    "### 2.C. Optimal threshold (1 point)\n",
    "[Back to table of contents](#ToC_2_WT)\n",
    "\n",
    "As you have probably seen, wavelet denoising can be really powerful. But how would you choose the optimal threshold value $T$? Let's look for a moment at the evolution of the quality of an image as we increase the threshold T. For that, we will leave the real images for a moment and use a toy example, the [Shepp-Logan phantom](https://en.wikipedia.org/wiki/Shepp%E2%80%93Logan_phantom), a standard test for image reconstruction algorithms coming from the field of computerized tomography (CT). We will load this image from skimage's [data](https://scikit-image.org/docs/dev/api/skimage.data.html) module. It has a range of $[0, 1]$, and we will add zero-mean gaussian noise with a standard deviation of $0.2$ (comparably, quite a lot of noise). Then we will denoise with a series of thresholds, and plot the evolution of the SNRs with the threshold. \n",
    "\n",
    "Run the next cell to see this test. Browse the images in the viewer, to see how powerful wavelet denoising is!"
   ]
  },
  {
   "cell_type": "code",
   "execution_count": 117,
   "metadata": {
    "deletable": false,
    "editable": false,
    "nbgrader": {
     "cell_type": "code",
     "checksum": "2e1410dee8f280f4a5736114ac09bf5d",
     "grade": false,
     "grade_id": "cell-353e60aee5dbeb01",
     "locked": true,
     "schema_version": 3,
     "solution": false,
     "task": false
    }
   },
   "outputs": [
    {
     "data": {
      "application/vnd.jupyter.widget-view+json": {
       "model_id": "c3231d04e67944928210f7599e50f035",
       "version_major": 2,
       "version_minor": 0
      },
      "text/plain": [
       "HBox(children=(Output(layout=Layout(width='80%')), Output(), Output(layout=Layout(width='25%'))))"
      ]
     },
     "metadata": {},
     "output_type": "display_data"
    },
    {
     "data": {
      "application/vnd.jupyter.widget-view+json": {
       "model_id": "5296333c117e4880a876e011f9824721",
       "version_major": 2,
       "version_minor": 0
      },
      "image/png": "[encoded data removed]",
      "text/plain": [
       "Canvas(toolbar=Toolbar(toolitems=[('Home', 'Reset original view', 'home', 'home'), ('Pan', 'Pan axes with left…"
      ]
     },
     "metadata": {},
     "output_type": "display_data"
    }
   ],
   "source": [
    "# Load phantom and add noise\n",
    "phantom = data.shepp_logan_phantom()\n",
    "noisy_phantom = phantom + np.random.normal(loc=0, scale=0.2, size=phantom.shape)\n",
    "\n",
    "# Declare function nosie\n",
    "def denoise(img, T, mode):\n",
    "    output = np.copy(img)\n",
    "    # Get WT with arbitrary n=2\n",
    "    output = lab6.pywt_analysis(output, 2, 'haar')\n",
    "    # Denoise with given threshold\n",
    "    output = pywt.threshold(output, value = T, mode=mode)\n",
    "    # Get iWT\n",
    "    return lab6.pywt_synthesis(output, 2, 'haar')\n",
    "\n",
    "# Declare viewer parameters\n",
    "image_list = [phantom, noisy_phantom]\n",
    "snr = lab6.snr_db(phantom, noisy_phantom)\n",
    "title_list = ['Original', f'Noisy (SNR [dB] = {np.round(lab6.snr_db(phantom, noisy_phantom), 2)})']\n",
    "\n",
    "# Get lists with SNRs and thresholds\n",
    "snrs = [snr]\n",
    "thresholds = [0.05, 0.15, 0.175, 0.2, 0.225, 0.25, 0.3, 0.35, 0.4, 0.45, 0.5, 0.55, 1, 1.5, 2]\n",
    "\n",
    "# Apply denoising\n",
    "for T in thresholds:\n",
    "    denoised = denoise(noisy_phantom, T, 'soft')\n",
    "    image_list.append(denoised)\n",
    "    snr = lab6.snr_db(phantom, denoised)\n",
    "    snrs.append(snr)\n",
    "    title_list.append(f'Denoised with T={T} (SNR [dB] = {np.round(snr, 2)})')\n",
    "\n",
    "# Visualize images\n",
    "plt.close('all')\n",
    "viewer(image_list, title = title_list, widgets=True)\n",
    "\n",
    "# Plot evolution of SNR with T\n",
    "plt.figure(figsize = [6, 5])\n",
    "plt.plot(np.concatenate(([0], thresholds)), snrs, 'r-o', label = 'SNR [dB]')\n",
    "plt.xlabel(r'Threshold $T$'); plt.ylabel('SNR'); plt.grid()\n",
    "plt.title('SNR [dB] vs threshold')\n",
    "plt.legend(); plt.show()"
   ]
  },
  {
   "cell_type": "markdown",
   "metadata": {
    "deletable": false,
    "editable": false,
    "kernel": "SoS",
    "nbgrader": {
     "cell_type": "markdown",
     "checksum": "ac75b94c3134235f43afd59e712744bf",
     "grade": false,
     "grade_id": "cell-41c8c43fb8b8e47a",
     "locked": true,
     "schema_version": 3,
     "solution": false,
     "task": false
    }
   },
   "source": [
    "In terms of SNR there is clearly an optimal $T$. A rule of thumb is to choose $T = \\sigma_{\\mathrm{HH}_1}$ as threshold for the denoising. $\\sigma_{\\mathrm{HH}_1}$ is the sample standard deviation of the noise in the **largest diagonal highpass band HH**, i.e., in the diagonal highpass band of the first iteration of the transform. This is partly because $T = \\sigma_{\\mathrm{HH}_1}$ is a good estimator of the true standard deviation $\\sigma$ of the noise.\n",
    "\n",
    "<div class = 'alert = alert-success'>\n",
    "\n",
    "<b>Note:</b> Did you look closely at the plot above? You can see that the treshold that maximizes the SNR and the standard deviation of the noise of the image <code>noisy_phantom</code> are in the same ballpark. \n",
    "</div>\n",
    "\n",
    "For **1 point**, implement the function `h_std(wt)`, that takes as parameter a wavelet transform in the form we have used in the rest of the lab and returns the rule-of-thumb threshold $T = \\sigma_{\\mathrm{HH}_1}$. A good test that you can build for yourself in the empty cell below is to take the wavelet transform of the image `noisy_phantom`, apply `h_std` on it and see of you recover something similar to the standard deviation of the noise $\\sigma$."
   ]
  },
  {
   "cell_type": "code",
   "execution_count": 118,
   "metadata": {
    "deletable": false,
    "kernel": "SoS",
    "nbgrader": {
     "cell_type": "code",
     "checksum": "0e308f0019f155dbf6104f3b46130154",
     "grade": false,
     "grade_id": "cell-7bd3f7118ab7e93b",
     "locked": false,
     "schema_version": 3,
     "solution": true,
     "task": false
    }
   },
   "outputs": [],
   "source": [
    "def h_std(wt):\n",
    "    # Preallocate output variable\n",
    "    T = 0\n",
    "    \n",
    "    # YOUR CODE HERE\n",
    "    T = np.std(wt[wt.shape[0]//2:, wt.shape[1]//2:])\n",
    "    \n",
    "    return T"
   ]
  },
  {
   "cell_type": "markdown",
   "metadata": {
    "deletable": false,
    "editable": false,
    "kernel": "SoS",
    "nbgrader": {
     "cell_type": "markdown",
     "checksum": "43e7f6a550d73c9090d9256f60b935c8",
     "grade": false,
     "grade_id": "cell-d4ba24f5ef576e17",
     "locked": true,
     "schema_version": 3,
     "solution": false,
     "task": false
    }
   },
   "source": [
    "We will quickly test your function on the image `mit_coef` (which is already a wavelet transform), where we know that the rule-of-thumb threshold is $T = 7.784177$. \n",
    "\n",
    "<div class = 'alert alert-info'>\n",
    "\n",
    "<b>Note:</b> If you want to further test your function, you can use the previous cell to apply it on the wavelet transform of different images. Compare the value you get against the value from <i>ImageViewer</i> (remember that if you zoom into a region, the statistics textbox will automatically update the standard deviation).\n",
    "</div>"
   ]
  },
  {
   "cell_type": "code",
   "execution_count": 119,
   "metadata": {
    "deletable": false,
    "editable": false,
    "kernel": "SoS",
    "nbgrader": {
     "cell_type": "code",
     "checksum": "46da2ed5dceae7440e2e721878f36ac2",
     "grade": true,
     "grade_id": "cell-0d7155058f065049",
     "locked": true,
     "points": 1,
     "schema_version": 3,
     "solution": false,
     "task": false
    }
   },
   "outputs": [
    {
     "name": "stdout",
     "output_type": "stream",
     "text": [
      "Nice, your h_std function passed the sanity check.\n"
     ]
    }
   ],
   "source": [
    "if not np.abs(h_std(mit_coef) - 7.1784177) < 1e-5:\n",
    "    print(f\"WARNING!!\\nh_std doesn't return the correct value ({h_std(mit_coef)}).\")\n",
    "print('Nice, your h_std function passed the sanity check.')"
   ]
  },
  {
   "cell_type": "markdown",
   "metadata": {
    "deletable": false,
    "editable": false,
    "kernel": "SoS",
    "nbgrader": {
     "cell_type": "markdown",
     "checksum": "b27eadcb27c3fa1f3c82247c9d1a7088",
     "grade": false,
     "grade_id": "cell-0ea74540409b610d",
     "locked": true,
     "schema_version": 3,
     "solution": false,
     "task": false
    }
   },
   "source": [
    "So far, we have tested arbitrary thresholds and only in particular cases. In the next cell you will find an ImageViewer with\n",
    "\n",
    "* a slider to control the value of $T$,\n",
    "* a checkbox selecting whether to simply set $T$ to its rule-of-thumb value (check off for the aforementioned slider to take effect),\n",
    "* a slider to control the number of iterations of the transform $n$,\n",
    "* a dropdown menu to choose a colormap. Note that the `'Normalize std'` option will only appear if you have implemented it in `lab6.py`,\n",
    "* a dropdown menu to choose the different thresholding operations,\n",
    "* the button `Apply denoising`, to plot the images resulting from the options you selected.\n",
    "\n",
    "Remember to go to the menu `Extra Widgets` to see these options. In the viewer, you will see both the original image and the reconstruction.\n",
    "\n",
    "<div class = \"alert alert-info\">\n",
    "    \n",
    "<b>Note:</b> In order to preserve the visual effect of thresholding, we use colormaps. In order to see it clearly, alternate between $T = 0$ and a given value. If you want to see the effect of thresholding in the histogram too, make sure to set the colormap to <code>None</code>.\n",
    "</div>"
   ]
  },
  {
   "cell_type": "code",
   "execution_count": 120,
   "metadata": {
    "deletable": false,
    "editable": false,
    "kernel": "SoS",
    "nbgrader": {
     "cell_type": "code",
     "checksum": "3e12f7134b28e0f3dd3d33f923501569",
     "grade": false,
     "grade_id": "cell-255638447351a8b7",
     "locked": true,
     "schema_version": 3,
     "solution": false,
     "task": false
    }
   },
   "outputs": [
    {
     "data": {
      "application/vnd.jupyter.widget-view+json": {
       "model_id": "fba8771203ea4041b1dd63cc79b78752",
       "version_major": 2,
       "version_minor": 0
      },
      "text/plain": [
       "HBox(children=(Output(layout=Layout(width='80%')), Output(), Output(layout=Layout(width='25%'))))"
      ]
     },
     "metadata": {},
     "output_type": "display_data"
    }
   ],
   "source": [
    "## Sliders\n",
    "T_slider = widgets.FloatSlider(value = 0, min = 0, max = 200, step = 0.1, description = 'T')\n",
    "T_checkbox = widgets.Checkbox(description='Optimal T')\n",
    "n_slider = widgets.IntSlider(value = 1, min = 0, max = 5, step = 1, description = 'n')\n",
    "## Menus\n",
    "# Check if you have defined Normalize std in lab6.py, define color map menu accordingly\n",
    "rand_array = np.random.randn(10,10)\n",
    "if np.allclose(lab6.norm_std_map(rand_array), rand_array):\n",
    "    cmapping_dropdown = widgets.Dropdown(description='Colormap', options = ['Non-uniform map', 'None'], value = 'None')\n",
    "else:\n",
    "    cmapping_dropdown = widgets.Dropdown(description='Colormap', options = ['Normalize std', 'Non-uniform map', 'None'], value = 'None')\n",
    "thresh_dropdown = widgets.Dropdown(description='Threshold mode', options = ['Soft', 'Hard'], value = 'Soft')\n",
    "# Button\n",
    "button = widgets.Button(description = 'Apply denoising')\n",
    "\n",
    "def callback_wt(img):\n",
    "    # Set slider and T with optimal checkbox, or extract slider value\n",
    "    if T_checkbox.value:\n",
    "        T = h_std(img)\n",
    "        T_slider.value = np.round_(T, decimals=1)\n",
    "    else:\n",
    "        T = T_slider.value\n",
    "    # Set n\n",
    "    n = n_slider.value\n",
    "    # Compute transform\n",
    "    transform = lab6.pywt_analysis(img, wavelet = 'haar', n = n)\n",
    "    # Threshold\n",
    "    if thresh_dropdown.value == 'Soft':\n",
    "        transform = pywt.threshold(transform, value = T, mode='soft')\n",
    "    elif thresh_dropdown.value == 'Hard':\n",
    "        transform = pywt.threshold(transform, value = T, mode='hard')\n",
    "    # Return reconstruction\n",
    "    return lab6.pywt_synthesis(transform, wavelet = 'haar', n = n)\n",
    "\n",
    "def callback_iwt(img):\n",
    "    # Set slider and T with optimal checkbox, or extract slider value\n",
    "    if T_checkbox.value:\n",
    "        T = h_std(img)\n",
    "        T_slider.value = np.round_(T, decimals=1)\n",
    "    else:\n",
    "        T = T_slider.value\n",
    "    # Set n\n",
    "    n = n_slider.value\n",
    "    # Compute transform\n",
    "    transform = lab6.pywt_analysis(img, wavelet = 'haar', n = n)\n",
    "    # Threshold\n",
    "    if thresh_dropdown.value == 'Soft':\n",
    "        transform = pywt.threshold(transform, value = T, mode='soft')\n",
    "    elif thresh_dropdown.value == 'Hard':\n",
    "        transform = pywt.threshold(transform, value = T, mode='hard')\n",
    "    # Apply colormap\n",
    "    if cmapping_dropdown.value == 'Normalize std':\n",
    "        transform = lab6.map_color(transform, n = n, color_map = lab6.norm_std_map)\n",
    "    elif cmapping_dropdown.value == 'Non-uniform map':\n",
    "        transform = lab6.map_color(transform, n = n, color_map = lab6.non_uniform_map)\n",
    "    return transform\n",
    "\n",
    "new_widgets = [T_slider, T_checkbox, n_slider, cmapping_dropdown, thresh_dropdown, button]\n",
    "\n",
    "plt.close('all')\n",
    "soft_thr_viewer = viewer([doisneau_noise, doisneau_noise], title=['Denoised image','Wavelet transform'], new_widgets=new_widgets, \n",
    "                         callbacks=[callback_wt, callback_iwt], hist = True, subplots = [2, 1]) \n",
    "T_checkbox.value = True\n",
    "button.click()"
   ]
  },
  {
   "cell_type": "markdown",
   "metadata": {
    "deletable": false,
    "editable": false,
    "kernel": "SoS",
    "nbgrader": {
     "cell_type": "markdown",
     "checksum": "ccf7fc8de5e49de10d982d0b45f7e764",
     "grade": false,
     "grade_id": "cell-74e8c786392d0282",
     "locked": true,
     "schema_version": 3,
     "solution": false,
     "task": false
    }
   },
   "source": [
    "## 3. Compression (2 points)\n",
    "[Back to table of contents](#ToC_2_WT)\n",
    "\n",
    "As you saw towards the end of [Lab 1](./1_Wavelet_transform.ipynb), just a few coefficients of the wavelet transform can rebuild an image with a decent SNR. This makes the wavelet transform a great tool for image compression. Simple data compression is achieved by applying a hard threshold to the coefficients of an image transform, as used in JPEG2000 with the wavelet transform or in JPEG with the discrete cosine transform (DCT). Note that this is only a rudimentary form of compression. A true encoder would further quantize the wavelet coefficients, which induces additional errors. The resulting coefficient map would also need to be encoded efficiently using, for example, the EZW algorithm (embedded zero-tree wavelet coding). You can find more information about the EZW algorithm on your [course-notes](https://moodle.epfl.ch/course/view.php?id=463), or if you are really interested in the topic, read [the original article](https://ieeexplore.ieee.org/abstract/document/258085).\n",
    "\n",
    "For **1 point**, code the function `compress`, that **retains a specific percentage of the wavelet coefficients** (the ones with largest **absolute values**), and sets all the other ones to $0$. The parameters are\n",
    "* `wt`: the wavelet transform of an image,\n",
    "* `per`: the percentage of coefficients to be retained (in integer percentages, e.g., $10$ instead of $0.1$ to specify $10\\%$),\n",
    "\n",
    "and returns\n",
    "* `output`: an array of the same size as `wt`, containing wavelet coefficients where **hard thresholding has been applied** (you are allowed to use `pywt.threshold` if you so wish),\n",
    "* `T`: the threshold value,\n",
    "* `r`: the **ratio** of non-zero pixels in `output`.\n",
    "\n",
    "<div class = \"alert alert-info\">\n",
    "    \n",
    "<b>Note</b>: You might find the function [<code>np.percentile</code>](https://numpy.org/doc/stable/reference/generated/numpy.percentile.html) useful.\n",
    "</div>\n",
    "\n",
    "<div class = \"alert alert-danger\">\n",
    "\n",
    "<b>Note</b>: Use the function [<code>np.count_nonzero</code>](https://numpy.org/doc/stable/reference/generated/numpy.count_nonzero.html) to calculate the ratio of non-zero coefficients.\n",
    "</div>"
   ]
  },
  {
   "cell_type": "code",
   "execution_count": 147,
   "metadata": {
    "deletable": false,
    "kernel": "SoS",
    "nbgrader": {
     "cell_type": "code",
     "checksum": "08c66d0e0d0be452c4487e20ba9c8353",
     "grade": false,
     "grade_id": "cell-808af027a8477c4b",
     "locked": false,
     "schema_version": 3,
     "solution": true,
     "task": false
    }
   },
   "outputs": [],
   "source": [
    "def compress(wt, per):\n",
    "    output = np.copy(wt)\n",
    "    T = None\n",
    "    r = None\n",
    "    \n",
    "    # YOUR CODE HERE\n",
    "    T = np.max(np.abs(wt)) * (100 - per) / 100\n",
    "    output = pywt.threshold(wt, value=T, mode='hard', substitute=0)\n",
    "\n",
    "    r = np.count_nonzero(output) / len(output)\n",
    "    \n",
    "    return output, T, r"
   ]
  },
  {
   "cell_type": "markdown",
   "metadata": {
    "deletable": false,
    "editable": false,
    "kernel": "SoS",
    "nbgrader": {
     "cell_type": "markdown",
     "checksum": "be47b415d7f49c99c76acf5c9f8e62fc",
     "grade": false,
     "grade_id": "cell-e0d1e9860d0a7480",
     "locked": true,
     "schema_version": 3,
     "solution": false,
     "task": false
    }
   },
   "source": [
    "For a quick test on your function, we will not use an image, but an axis in the range $[-10, 10]$, like the ones we used to demonstrate the thresholding functions. \n",
    "\n",
    "Run the next cell to test your function, which will show the curves for different percentages of kept values. Note that since we have evenly spread values from $-10$ to $10$, it is easy to verify the correctness of your function."
   ]
  },
  {
   "cell_type": "code",
   "execution_count": 148,
   "metadata": {
    "deletable": false,
    "editable": false,
    "kernel": "SoS",
    "nbgrader": {
     "cell_type": "code",
     "checksum": "d4d4e1f0ee3f56d7069ceb93a4bf8acc",
     "grade": true,
     "grade_id": "cell-3a19f2b606d72b7b",
     "locked": true,
     "points": 1,
     "schema_version": 3,
     "solution": false,
     "task": false
    }
   },
   "outputs": [
    {
     "name": "stdout",
     "output_type": "stream",
     "text": [
      "Kept 10% of coeff.s with threshold 9.00 and compression ratio 0.1\n",
      "Kept 20% of coeff.s with threshold 8.00 and compression ratio 0.2\n",
      "Kept 30% of coeff.s with threshold 7.00 and compression ratio 0.3\n",
      "Kept 40% of coeff.s with threshold 6.00 and compression ratio 0.4\n",
      "Kept 50% of coeff.s with threshold 5.00 and compression ratio 0.5\n"
     ]
    },
    {
     "data": {
      "application/vnd.jupyter.widget-view+json": {
       "model_id": "66bda59dfc2a48689121dac0be09f87e",
       "version_major": 2,
       "version_minor": 0
      },
      "image/png": "[encoded data removed]",
      "text/plain": [
       "Canvas(toolbar=Toolbar(toolitems=[('Home', 'Reset original view', 'home', 'home'), ('Pan', 'Pan axes with left…"
      ]
     },
     "metadata": {},
     "output_type": "display_data"
    }
   ],
   "source": [
    "# Set x axis\n",
    "test = np.arange(-10, 10, 0.01)\n",
    "# Handle matplotlib objects\n",
    "plt.close(\"all\"); fig = plt.figure(); ax = plt.gca()\n",
    "# Plot reference\n",
    "ax.plot(test, test, label = r'$y=x$')\n",
    "# Plot hard thresholding for different percentiles\n",
    "for i, per in enumerate([10,20,30,40,50]):\n",
    "    hard_thr_test, T, r = compress(test, per = per)\n",
    "    ax.plot(test, hard_thr_test, label = f'Hard thresh. (kept {per}% of coeff.s)')\n",
    "    print(f\"Kept {per}% of coeff.s with threshold {T:.2f} and compression ratio {r}\")\n",
    "    if not np.isclose(T, 9-i):\n",
    "        if np.isclose(T, i+1):\n",
    "            print(f\"\\n###\\nBe careful with how are you calculating your threshold!\\nYou need to KEEP {per}\\\n",
    "% of coefficients, as opposed to discarding {per}% of them\\n###\\n\")\n",
    "        else:\n",
    "            print(f\"###\\nBe careful with how are you calculating your threshold!\\n###\")\n",
    "# Set grid and legend\n",
    "ax.grid(); ax.legend(loc='upper left'); ax.set_xlabel(\"Input\"); ax.set_ylabel(\"Output\"); plt.show()\n"
   ]
  },
  {
   "cell_type": "markdown",
   "metadata": {
    "deletable": false,
    "editable": false,
    "kernel": "SoS",
    "nbgrader": {
     "cell_type": "markdown",
     "checksum": "4fed1dd6ab97b2ab3db5e72a859217a1",
     "grade": false,
     "grade_id": "cell-06fc30388ef035a0",
     "locked": true,
     "schema_version": 3,
     "solution": false,
     "task": false
    }
   },
   "source": [
    "Verify that both the threshold and the number of remaining pixels make sense. Now, let's take a look at your function applied to the image `mer_de_glace`, where we will keep only $5\\%$ of the coefficients. \n",
    "\n",
    "Run the next cell to see the image `mer_de_glace`, its wavelet transform, its reconstruction after wavelet compression, and the thresholded wavelet transform. To enhance visualization, we will also use the colormap you selected on the wavelet transforms. Observe that while the reconstructed image looks quite good at first, zooming in reveals many compression artifacts (after all, $5\\%$ of the coefficients is not much). To better compare the images, feel free to use `Options` $\\rightarrow$ `Enable Joint Zoom` in the viewer."
   ]
  },
  {
   "cell_type": "code",
   "execution_count": 149,
   "metadata": {
    "deletable": false,
    "editable": false,
    "kernel": "SoS",
    "nbgrader": {
     "cell_type": "code",
     "checksum": "4ab6d9854d1532313652ea171714beae",
     "grade": false,
     "grade_id": "cell-494511a170fd5560",
     "locked": true,
     "schema_version": 3,
     "solution": false,
     "task": false
    }
   },
   "outputs": [
    {
     "data": {
      "application/vnd.jupyter.widget-view+json": {
       "model_id": "699b71c4b13d4e2cb62eef6cb911a0b5",
       "version_major": 2,
       "version_minor": 0
      },
      "text/plain": [
       "HBox(children=(Output(layout=Layout(width='80%')), Output(), Output(layout=Layout(width='25%'))))"
      ]
     },
     "metadata": {},
     "output_type": "display_data"
    },
    {
     "data": {
      "application/vnd.jupyter.widget-view+json": {
       "model_id": "",
       "version_major": 2,
       "version_minor": 0
      },
      "text/plain": [
       "Button(description='Show Widgets', style=ButtonStyle())"
      ]
     },
     "metadata": {},
     "output_type": "display_data"
    }
   ],
   "source": [
    "# Get the wavelet transform\n",
    "wt = lab6.pywt_analysis(mer_de_glace, wavelet = 'haar', n = 4)\n",
    "\n",
    "# Apply compression (keeping 5% of the coefficients)\n",
    "compressed_wt, T, r = compress(wt, per = 5)\n",
    "\n",
    "# Reconstruct each and calculate SNR\n",
    "compressed_rec = lab6.pywt_synthesis(compressed_wt, wavelet = 'haar', n = 4)\n",
    "snr_comp = np.round_(lab6.snr_db(compressed_rec, mer_de_glace), decimals = 2)\n",
    "\n",
    "# Apply colormap for better visualization\n",
    "wt =            lab6.map_color(wt,            n = 4, color_map = color_map)\n",
    "compressed_wt = lab6.map_color(compressed_wt, n = 4, color_map = color_map)\n",
    "\n",
    "image_list = [mer_de_glace, wt, compressed_rec, compressed_wt]\n",
    "title_list = ['Original', 'Wavelet transform (n=4)', \n",
    "              f'Compressed rec. (SNR [dB] = {snr_comp})',\n",
    "              f'Compressed wavelet tr. (T = {np.round_(T, decimals = 2)})']\n",
    "\n",
    "plt.close('all')\n",
    "compression_viewer = viewer(image_list, title = title_list, subplots=(3,2))"
   ]
  },
  {
   "cell_type": "markdown",
   "metadata": {
    "deletable": false,
    "editable": false,
    "kernel": "SoS",
    "nbgrader": {
     "cell_type": "markdown",
     "checksum": "70403be7fc8a4bc226aecd82131910f9",
     "grade": false,
     "grade_id": "cell-eff4d05a52a8238d",
     "locked": true,
     "schema_version": 3,
     "solution": false,
     "task": false
    }
   },
   "source": [
    "### Multiple Choice Question\n",
    "[Back to table of contents](#ToC_2_WT)\n",
    "\n",
    "Now at this point you may be asking yourself, why do we put compression and denoising in a different category, if we use thresholding anyway? For **1 point** answer the following. \n",
    "\n",
    "* Q1. Assume we calculate, with respect to `doisneau`, the **SNR** of `doisneau_noise`, of `doisneau_noise` after optimal denoising, and of `doisneau_noise` after compression **keeping only $2\\%$ of the coefficients**. What will be the order of the SNRs, from low to high?\n",
    "\n",
    "1. `doisneau_noise` < `doisneau_noise` after optimal denoising < `doisneau_noise` after compression \n",
    "2. `doisneau_noise` < `doisneau_noise` after compression < `doisneau_noise` after optimal denoising\n",
    "3. `doisneau_noise` after optimal denoising < `doisneau_noise` < `doisneau_noise` after compression\n",
    "4. `doisneau_noise` after optimal denoising < `doisneau_noise` after compression < `doisneau_noise`\n",
    "5. `doisneau_noise` after compression < `doisneau_noise` < `doisneau_noise` after optimal denoising\n",
    "6. `doisneau_noise` after compression < `doisneau_noise` after optimal denoising < `doisneau_noise`\n",
    "\n",
    "Modify the variable answer in the following cell to reflect your choice. \n",
    "<div class = 'alert alert-info'>\n",
    "    \n",
    "<b>Note</b>: If you want to verify your answer, you can use the empty cell below to experiment. Recycle any code you need!\n",
    "</div>"
   ]
  },
  {
   "cell_type": "code",
   "execution_count": 151,
   "metadata": {
    "deletable": false,
    "kernel": "SoS",
    "nbgrader": {
     "cell_type": "code",
     "checksum": "518549302e2877730bc4598d0128e9e2",
     "grade": false,
     "grade_id": "cell-a147bc08f86f1a34",
     "locked": false,
     "schema_version": 3,
     "solution": true,
     "task": false
    }
   },
   "outputs": [],
   "source": [
    "# Assign your answer to this variable\n",
    "answer = 5\n",
    "# YOUR CODE HERE"
   ]
  },
  {
   "cell_type": "code",
   "execution_count": 152,
   "metadata": {
    "deletable": false,
    "editable": false,
    "kernel": "SoS",
    "nbgrader": {
     "cell_type": "code",
     "checksum": "2d181b6d3d5b70fd1b5650519ce4fe23",
     "grade": true,
     "grade_id": "cell-404e34aabd91cb5a",
     "locked": true,
     "points": 1,
     "schema_version": 3,
     "solution": false,
     "task": false
    }
   },
   "outputs": [],
   "source": [
    "# Sanity check\n",
    "if not answer in [1, 2, 3, 4, 5, 6]:\n",
    "    print('WARNING!!\\nValid answers are 1, 2, 3, 4, 5 or 6.')"
   ]
  },
  {
   "cell_type": "markdown",
   "metadata": {
    "deletable": false,
    "editable": false,
    "nbgrader": {
     "cell_type": "markdown",
     "checksum": "789ee312ea64ab44232d574342072d35",
     "grade": false,
     "grade_id": "cell-75a5bcf3be2220f9",
     "locked": true,
     "schema_version": 3,
     "solution": false,
     "task": false
    }
   },
   "source": [
    "As you can see, it is quite remarkable how sparse can the wavelet transform be before we start to loose information. This makes compression and denoising two huge applications, and makes the wavelet transform an important tool in image processing. If you want to finish exploring the potential of the methods we have seen, and in particular, understand the boundaries of denoising and compression, play around with the following cell! We have included a widget where you can:\n",
    "\n",
    "* Create a noisy image, \n",
    "* Denoise/compress keeping a specific percentage of coefficients.\n",
    "\n",
    "Run the next cell and go to the menu `Extra Widgets` to explore the applications of the wavelet transform! You can choose which image you want to use by changing the first line of the cell."
   ]
  },
  {
   "cell_type": "code",
   "execution_count": 153,
   "metadata": {},
   "outputs": [
    {
     "data": {
      "application/vnd.jupyter.widget-view+json": {
       "model_id": "f4e9a623d5d34c7190f6563debb30c19",
       "version_major": 2,
       "version_minor": 0
      },
      "text/plain": [
       "HBox(children=(Output(layout=Layout(width='80%')), Output(), Output(layout=Layout(width='25%'))))"
      ]
     },
     "metadata": {},
     "output_type": "display_data"
    }
   ],
   "source": [
    "# Choose image\n",
    "image = mer_de_glace\n",
    "## Declare sliders\n",
    "noise_std_slider = widgets.FloatSlider(value = 20, min = 0, max = 40, step = 0.1, description = r'Noise $\\sigma$')\n",
    "noise_mean_slider = widgets.FloatSlider(value = 0, min = -100, max = 100, step = 0.1, description = 'Noise mean')\n",
    "per_slider = widgets.FloatSlider(value = 100, min = 0, max = 100, step = 0.1, description = '% of coeff.s')\n",
    "n_slider = widgets.IntSlider(value = 1, min = 0, max = 5, step = 1, description = 'n')\n",
    "# Button % Optimal threshold checkbox\n",
    "T_checkbox = widgets.Checkbox(description='Optimal T')\n",
    "button = widgets.Button(description = 'Apply')\n",
    "\n",
    "# Declare callbacks\n",
    "def callback_noise(img):\n",
    "    # Get noise\n",
    "    mean = noise_mean_slider.value\n",
    "    std = noise_std_slider.value\n",
    "    # Return noisy image\n",
    "    return img + np.random.normal(mean, std, img.shape)\n",
    "\n",
    "def callback_iwt(img):\n",
    "    # Build noisy image\n",
    "    mean = noise_mean_slider.value\n",
    "    std = noise_std_slider.value\n",
    "    noisy = img + np.random.normal(mean, std, img.shape)\n",
    "    \n",
    "    # Set n\n",
    "    n = n_slider.value\n",
    "    # Set percentage\n",
    "    per = per_slider.value\n",
    "    \n",
    "    # Compute transform\n",
    "    transform = lab6.pywt_analysis(noisy, wavelet = 'haar', n = n)\n",
    "    # Threshold\n",
    "    if T_checkbox.value:\n",
    "        T = h_std(transform)\n",
    "        transform = pywt.threshold(transform, value = T, mode = 'soft')\n",
    "    else:\n",
    "        transform, T, _ = compress(transform, per)\n",
    "    # Return iWT\n",
    "    return lab6.pywt_synthesis(transform, wavelet = 'haar', n = n)\n",
    "\n",
    "# Viewer Parameters\n",
    "new_widgets = [noise_std_slider, noise_mean_slider, n_slider, per_slider, T_checkbox, button]\n",
    "\n",
    "plt.close('all')\n",
    "compression_viewer = viewer([image, image], title=['Noisy Image', 'Reconstruction'], new_widgets=new_widgets, \n",
    "                         callbacks=[callback_noise, callback_iwt], subplots = [2, 1], widgets = True) \n",
    "button.click()"
   ]
  },
  {
   "cell_type": "markdown",
   "metadata": {
    "deletable": false,
    "editable": false,
    "kernel": "SoS",
    "nbgrader": {
     "cell_type": "markdown",
     "checksum": "844e58d8dac1c22320874fd8839fb2ee",
     "grade": false,
     "grade_id": "cell-8f2c99c6329bf1a1",
     "locked": true,
     "schema_version": 3,
     "solution": false,
     "task": false
    }
   },
   "source": [
    "<div class=\"alert alert-success\">\n",
    "\n",
    "<p><b>You have reached the end of the second part of the Wavelets lab!</b></p>\n",
    "<p>\n",
    "Make sure to save your notebook (you might want to keep a copy on your personal computer) and upload it to <a href=\"https://moodle.epfl.ch/mod/assign/view.php?id=1148687\">Moodle</a>, in a zip file with other notebooks of this lab.\n",
    "</p>\n",
    "</div>\n",
    "\n",
    "* Keep the name of the notebook as: *1_Wavelet_transform.ipynb*,\n",
    "* Name the zip file: *Wavelets_lab.zip*.\n",
    "\n",
    "<div class=\"alert alert-danger\">\n",
    "<h4>Feedback</h4>\n",
    "    <p style=\"margin:4px;\">\n",
    "    This is the first edition of the image-processing laboratories using Jupyter Notebooks running on Noto. Do not leave before giving us your <a href=\"https://moodle.epfl.ch/mod/feedback/view.php?id=1148686\">feedback here!</a></p>\n",
    "</div>"
   ]
  },
  {
   "cell_type": "code",
   "execution_count": null,
   "metadata": {},
   "outputs": [],
   "source": []
  }
 ],
 "metadata": {
  "kernelspec": {
   "display_name": "Python 3 (ipykernel)",
   "language": "python",
   "name": "python3"
  },
  "language_info": {
   "codemirror_mode": {
    "name": "ipython",
    "version": 3
   },
   "file_extension": ".py",
   "mimetype": "text/x-python",
   "name": "python",
   "nbconvert_exporter": "python",
   "pygments_lexer": "ipython3",
   "version": "3.8.10"
  },
  "sos": {
   "kernels": [
    [
     "JavaScript",
     "javascript",
     "JavaScript",
     "#c8e1ae",
     ""
    ],
    [
     "Python3",
     "python3",
     "Python3",
     "#FFD91A",
     {
      "name": "ipython",
      "version": 3
     }
    ],
    [
     "SoS",
     "sos",
     "",
     "",
     "sos"
    ]
   ],
   "panel": {
    "displayed": false,
    "height": 0
   },
   "version": "0.21.9"
  },
  "toc": {
   "base_numbering": 1,
   "nav_menu": {},
   "number_sections": false,
   "sideBar": true,
   "skip_h1_title": false,
   "title_cell": "Table of Contents",
   "title_sidebar": "Contents",
   "toc_cell": false,
   "toc_position": {},
   "toc_section_display": true,
   "toc_window_display": false
  }
 },
 "nbformat": 4,
 "nbformat_minor": 4
}
