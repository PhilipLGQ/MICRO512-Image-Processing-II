{
 "cells": [
  {
   "cell_type": "markdown",
   "metadata": {
    "deletable": false,
    "editable": false,
    "nbgrader": {
     "cell_type": "markdown",
     "checksum": "3ab2b3445538eb78a9a6ed9695bc6b91",
     "grade": false,
     "grade_id": "cell-67dd05f3d01a8340",
     "locked": true,
     "schema_version": 3,
     "solution": false,
     "task": false
    }
   },
   "source": [
    "<img src=\"https://www.epfl.ch/about/overview/wp-content/uploads/2020/07/logo-epfl-1024x576.png\" style=\"padding-right:10px;width:140px;float:left\"></td>\n",
    "<h2 style=\"white-space: nowrap\">Image Processing Laboratory Notebooks</h2>\n",
    "<hr style=\"clear:both\">\n",
    "<p style=\"font-size:0.85em; margin:2px; text-align:justify\">\n",
    "This Juypter notebook is part of a series of computer laboratories which are designed\n",
    "to teach image-processing programming; they are running on the EPFL's Noto server. They are the practical complement of the theoretical lectures of the EPFL's Master course <b>Image Processing II</b> \n",
    "(<a href=\"https://moodle.epfl.ch/course/view.php?id=463\">MICRO-512</a>) taught by Dr. D. Sage, Dr. M. Liebling, Prof. M. Unser and Prof. D. Van de Ville.\n",
    "</p>\n",
    "<p style=\"font-size:0.85em; margin:2px; text-align:justify\">\n",
    "The project is funded by the Center for Digital Education and the School of Engineering. It is owned by the <a href=\"http://bigwww.epfl.ch/\">Biomedical Imaging Group</a>. \n",
    "The distribution or the reproduction of the notebook is strictly prohibited without the written consent of the authors.  &copy; EPFL 2022.\n",
    "</p>\n",
    "<p style=\"font-size:0.85em; margin:0px\"><b>Authors</b>: \n",
    "    <a href=\"mailto:pol.delaguilapla@epfl.ch\">Pol del Aguila Pla</a>, \n",
    "    <a href=\"mailto:kay.lachler@epfl.ch\">Kay Lächler</a>,\n",
    "    <a href=\"mailto:alejandro.nogueronaramburu@epfl.ch\">Alejandro Noguerón Arámburu</a>,\n",
    "    <a href=\"mailto:daniel.sage@epfl.ch\">Daniel Sage</a>, and\n",
    "    <a href=\"mailto:kamil.seghrouchni@epfl.ch\">Kamil Seghrouchni</a>.\n",
    "     \n",
    "</p>\n",
    "<hr style=\"clear:both\">\n",
    "<h1>Lab 5.2: Geometric transformation - Applications</h1>\n",
    "<div style=\"background-color:#F0F0F0;padding:4px\">\n",
    "    <p style=\"margin:4px;\"><b>Released</b>: Thursday 24th of March, 2022</p>\n",
    "    <p style=\"margin:4px;\"><b>Submission</b>: <span style=\"color:red\">Friday 1st of April 2022</span> (before 11:59PM) on <a href=\"https://moodle.epfl.ch/course/view.php?id=463\">Moodle</a></p>\n",
    "    <p style=\"margin:4px;\"><b>Grade weight</b> (Lab 5, 25 points): 7.5 % of the overall grade</p>\n",
    "    <p style=\"margin:4px;\"><b>Help sessions</b>: Monday 28th of March, 2022 on Zoom (12h-13h, see Moodle for link) and Thursday 31st of March on campus</p>\n",
    "    <p style=\"margin:4px;\"><b>Related lectures</b>: Chapter 7</p>\n",
    "</div>"
   ]
  },
  {
   "cell_type": "markdown",
   "metadata": {},
   "source": [
    "### Student Name: Guanqun LIU\n",
    "### SCIPER: 334988\n",
    "\n",
    "Double-click on this cell and fill your name and SCIPER number. Then, run the cell below to verify your identity in Noto and set the seed for random results."
   ]
  },
  {
   "cell_type": "code",
   "execution_count": 3,
   "metadata": {
    "deletable": false,
    "editable": false,
    "nbgrader": {
     "cell_type": "code",
     "checksum": "0548867981f4cb15c61eef63b431d425",
     "grade": true,
     "grade_id": "cell-9972da644c816f1b",
     "locked": true,
     "points": 0,
     "schema_version": 3,
     "solution": false,
     "task": false
    }
   },
   "outputs": [
    {
     "name": "stdout",
     "output_type": "stream",
     "text": [
      "SCIPER: 334988\n"
     ]
    }
   ],
   "source": [
    "import getpass\n",
    "# This line recovers your camipro number to mark the images with your ID\n",
    "uid = int(getpass.getuser().split('-')[2]) if len(getpass.getuser().split('-')) > 2 else ord(getpass.getuser()[0])\n",
    "print(f'SCIPER: {uid}')"
   ]
  },
  {
   "cell_type": "markdown",
   "metadata": {
    "deletable": false,
    "editable": false,
    "nbgrader": {
     "cell_type": "markdown",
     "checksum": "87164d6d8ab5b5b25d4cecbf3c8a788a",
     "grade": false,
     "grade_id": "cell-d61777f1057378a0",
     "locked": true,
     "schema_version": 3,
     "solution": false,
     "task": false
    }
   },
   "source": [
    "## <a name=\"imports_\"></a> Imports\n",
    "In the next cell we import standard Python libraries that we will use throughout the lab, as well as the following libraries that are required for the exercises:\n",
    "\n",
    "* [`matplotlib.pyplot`](https://matplotlib.org/3.2.2/api/_as_gen/matplotlib.pyplot.html), to display images,\n",
    "* [`ipywidgets`](https://ipywidgets.readthedocs.io/en/latest/), to make the image display interactive,\n",
    "* [`numpy`](https://numpy.org/doc/stable/reference/index.html), for mathematical operations on arrays,\n",
    "* [`openCV` (cv2)](https://docs.opencv.org/2.4/index.html), for image processing tasks,\n",
    "* [`scipy`(scipy)](https://www.scipy.org), also for image processing tasks.\n",
    "\n",
    "We will then load the `ImageViewer()` class as `viewer`. You can find the documentation of the class [here](https://github.com/Biomedical-Imaging-Group/interactive-kit/wiki/Image-Viewer).\n",
    "\n",
    "Finally, we load the images you will use in the exercise to test your functions. "
   ]
  },
  {
   "cell_type": "code",
   "execution_count": 27,
   "metadata": {
    "deletable": false,
    "editable": false,
    "nbgrader": {
     "cell_type": "code",
     "checksum": "af550a27e933bc9715f4ab2ed8e20d1b",
     "grade": false,
     "grade_id": "cell-964042fb8296d105",
     "locked": true,
     "schema_version": 3,
     "solution": false,
     "task": false
    }
   },
   "outputs": [],
   "source": [
    "# Configure plotting as dynamic\n",
    "%matplotlib widget\n",
    "\n",
    "# Import standard required packages\n",
    "import matplotlib.pyplot as plt\n",
    "import numpy as np\n",
    "import cv2 as cv\n",
    "import ipywidgets as widgets\n",
    "from scipy import ndimage\n",
    "from interactive_kit import imviewer as viewer\n",
    "\n",
    "# Load images to be used in this lab\n",
    "sicilia_map = cv.imread('images/sicilia_map.png',cv.IMREAD_UNCHANGED).astype(np.float64)\n",
    "sicilia_photo = cv.imread('images/sicilia_photo.png',cv.IMREAD_UNCHANGED).astype(np.float64)\n",
    "EPFL_map = cv.imread('images/EPFL_map.png',cv.IMREAD_UNCHANGED).astype(np.float64)\n",
    "EPFL_photo= cv.imread('images/EPFL_photo.png',cv.IMREAD_UNCHANGED).astype(np.float64)\n",
    "eiffel  = cv.imread('images/eiffel.png',cv.IMREAD_UNCHANGED).astype(np.float64)\n",
    "alsace = cv.imread('images/alsace.png',cv.IMREAD_UNCHANGED).astype(np.float64)"
   ]
  },
  {
   "cell_type": "markdown",
   "metadata": {
    "deletable": false,
    "editable": false,
    "nbgrader": {
     "cell_type": "markdown",
     "checksum": "40ca16e9ef7aca130a85c5c8e2c39d26",
     "grade": false,
     "grade_id": "cell-39492e60020936d9",
     "locked": true,
     "schema_version": 3,
     "solution": false,
     "task": false
    }
   },
   "source": [
    "# Geometric transformation applications  (10 points)\n",
    "\n",
    "In this part of the laboratory we will first compare the various interpolators you have studied in Part 1 in more detail, and then we will use geometric transformations for several applications. You will learn about *image registration*, *image distortion*, and how to use Python for other image processing applications. We will only cover two-dimensional graylevel geometric transformations, but keep in mind that the same operations can easily be adapted to color images by treating each color channel as an independent graylevel image.\n",
    "\n",
    "<div class = 'alert alert-info'>\n",
    "\n",
    "<b>Note:</b> This part of the lab will be carried out completely in Python. Before starting, you should have completed the <a href='./1_GT_Implementations.ipynb'>first part</a> of this lab and understood how to use <a href='https://docs.opencv.org/3.4/da/d54/group__imgproc__transform.html#gafbbc470ce83812914a70abfb604f4326'><code>cv.getRotationMatrix2D</code></a> and <a href='https://docs.scipy.org/doc/scipy/reference/generated/scipy.ndimage.affine_transform.html#scipy-ndimage-affine-transform'><code>ndimage.affine_transform</code></a> to perform geometric transformations in Python.\n",
    "</div>\n",
    "\n",
    "## <a id=\"ToC_2_GT_Applications\"></a>Table of contents\n",
    "1. [Comparison of interpolators](#1.-Comparison-of-interpolators-(4-points)) **(4 points)** \n",
    "2. [Image registration](#2.-Image-registration)\n",
    "    1. [Implementation](#2.A.-Implementation-(3-points)) **(3 points)** \n",
    "    2. [Experimentation](#2.B.-Experimentation)\n",
    "3. [Image distortion](#3.-Image-distortion)\n",
    "    1. [Implementation](#3.A.-Implementation-(3-points)) **(3 points)**\n",
    "    2. [Experimentation](#3.B.-Experimentation)"
   ]
  },
  {
   "cell_type": "markdown",
   "metadata": {
    "deletable": false,
    "editable": false,
    "nbgrader": {
     "cell_type": "markdown",
     "checksum": "bfb8af9a15a012dd89e01ffb87bb5c3b",
     "grade": false,
     "grade_id": "cell-a6bb851ffcb397ef",
     "locked": true,
     "schema_version": 3,
     "solution": false,
     "task": false
    }
   },
   "source": [
    "### Visualize images\n",
    "Use the next cell to get familiar with the images you are going to be using. Remember that you can use `Next` / `Prev` to cycle through the images."
   ]
  },
  {
   "cell_type": "code",
   "execution_count": 28,
   "metadata": {
    "deletable": false,
    "editable": false,
    "nbgrader": {
     "cell_type": "code",
     "checksum": "fa91d6e12ec594383721ec27e5d63f99",
     "grade": false,
     "grade_id": "cell-eb50e679ac96398d",
     "locked": true,
     "schema_version": 3,
     "solution": false,
     "task": false
    }
   },
   "outputs": [
    {
     "data": {
      "application/vnd.jupyter.widget-view+json": {
       "model_id": "c6e3adced2e64d13a47756b5b71d5339",
       "version_major": 2,
       "version_minor": 0
      },
      "text/plain": [
       "HBox(children=(Output(layout=Layout(width='80%')), Output(), Output(layout=Layout(width='25%'))))"
      ]
     },
     "metadata": {},
     "output_type": "display_data"
    }
   ],
   "source": [
    "# Display images\n",
    "image_list = [sicilia_map , sicilia_photo, EPFL_map, EPFL_photo, eiffel, alsace]\n",
    "\n",
    "plt.close('all')\n",
    "imgs_viewer = viewer(image_list, widgets=True)"
   ]
  },
  {
   "cell_type": "markdown",
   "metadata": {
    "deletable": false,
    "editable": false,
    "nbgrader": {
     "cell_type": "markdown",
     "checksum": "a32921e55234105ba6f378fb2251e329",
     "grade": false,
     "grade_id": "cell-0591e6054f6cd0e2",
     "locked": true,
     "schema_version": 3,
     "solution": false,
     "task": false
    }
   },
   "source": [
    "# 1. Comparison of interpolators (4 points)\n",
    "[Back to table of contents](#ToC_2_GT_Applications)\n",
    "\n",
    "In the last cell of Part 1 you already got a glimpse of what difference a good interpolator can make on an image transformation. In this part, we will use Python to perform a numerical comparison of the three interpolators we studied there. To make the rest of the code simpler and easier to read, we will first redefine the transform function in Python. \n",
    "\n",
    "In the next cell, **for 2 points**, implement the function `transform(img, angle, scaling, center, order)` that takes as input parameters\n",
    "\n",
    "* `img`: the original image,\n",
    "* `angle`: the angle of rotation in degrees,\n",
    "* `scaling`: the scaling factor,\n",
    "* `center`: the center of rotation following NumPy indexing protocols, i.e., ($c_2$, $c_1$),\n",
    "* `order`: the order of interpolation to use (`0` = nearest neighbor, `1` = linear, and `3` = cubic),\n",
    "\n",
    "and returns\n",
    "\n",
    "* `out`: the transformed image.\n",
    "\n",
    "<div class='alert alert-danger'>\n",
    "\n",
    "<b>Important:</b> Only use the two functions <code>cv.getRotationMatrix2D(center, angle, scale)</code> and <code>ndimage.affine_transform(img, matrix, order)</code>. If you don't remember how to do it, look at <a href='./1_GT_Implementations.ipynb/#1.D.-Geometric-transformations-in-Python-(1-point)'>Section 1.D</a> of the first notebook.\n",
    "</div>"
   ]
  },
  {
   "cell_type": "code",
   "execution_count": 29,
   "metadata": {
    "deletable": false,
    "nbgrader": {
     "cell_type": "code",
     "checksum": "b4c07d43dd2fe5f0850f148c88cf4fb4",
     "grade": false,
     "grade_id": "cell-37ef81303cdf82aa",
     "locked": false,
     "schema_version": 3,
     "solution": true,
     "task": false
    }
   },
   "outputs": [],
   "source": [
    "def transform(img, angle, scaling, center, order):\n",
    "    out = np.zeros(img.shape)\n",
    "    \n",
    "    # YOUR CODE HERE\n",
    "    M = cv.getRotationMatrix2D(center, angle, 1/scaling)\n",
    "    out = ndimage.affine_transform(img, M, order=order)\n",
    "    \n",
    "    return out"
   ]
  },
  {
   "cell_type": "markdown",
   "metadata": {
    "deletable": false,
    "editable": false,
    "nbgrader": {
     "cell_type": "markdown",
     "checksum": "099de3abd2413e37bb4a0116528f4d99",
     "grade": false,
     "grade_id": "cell-239efcc2a07bbb12",
     "locked": true,
     "schema_version": 3,
     "solution": false,
     "task": false
    }
   },
   "source": [
    "Run the next cell for a quick sanity check. In it, we also define the function `SNR` that calculates the signal-to-noise ratio between two images, which we will use for the upcoming analysis.\n",
    "\n",
    "<div class = 'alert alert-danger'>\n",
    "\n",
    "<b>Note:</b> Remember that this is <b>NOT</b> a definitive test, and the fact that the cell runs does not guarantee that you will get the points. \n",
    "</div>    "
   ]
  },
  {
   "cell_type": "code",
   "execution_count": 30,
   "metadata": {
    "deletable": false,
    "editable": false,
    "nbgrader": {
     "cell_type": "code",
     "checksum": "191860e332273bfb6dfcd8e958bd0e2e",
     "grade": true,
     "grade_id": "cell-741f29d71134af53",
     "locked": true,
     "points": 2,
     "schema_version": 3,
     "solution": false,
     "task": false
    }
   },
   "outputs": [
    {
     "data": {
      "application/vnd.jupyter.widget-view+json": {
       "model_id": "efaca388c81a441eab623b4ac30988d4",
       "version_major": 2,
       "version_minor": 0
      },
      "text/plain": [
       "HBox(children=(Output(layout=Layout(width='80%')), Output(), Output(layout=Layout(width='25%'))))"
      ]
     },
     "metadata": {},
     "output_type": "display_data"
    },
    {
     "data": {
      "application/vnd.jupyter.widget-view+json": {
       "model_id": "e8c2ede61eee44a9b96c9c9da7a997c5",
       "version_major": 2,
       "version_minor": 0
      },
      "text/plain": [
       "Button(description='Show Widgets', style=ButtonStyle())"
      ]
     },
     "metadata": {},
     "output_type": "display_data"
    },
    {
     "name": "stdout",
     "output_type": "stream",
     "text": [
      "Nice! Your transform function passed the sanity check.\n"
     ]
    }
   ],
   "source": [
    "# Define test image\n",
    "test_img = np.zeros((7,7)); test_img[1:6, 1:6] = 255; test_img[2:5, 2:5] = 0\n",
    "correct = []\n",
    "correct.append(np.array([[  0.,   0.,   0.,   0., 255., 255., 255.], [  0.,   0.,   0., 255.,   0.,   0., 255.],\n",
    "                         [  0.,   0., 255., 255.,   0.,   0.,   0.], [  0.,   0.,   0., 255., 255.,   0., 255.],\n",
    "                         [  0.,   0.,   0.,   0., 255., 255., 255.], [  0.,   0.,   0.,   0.,   0., 255.,   0.],\n",
    "                         [  0.,   0.,   0.,   0.,   0.,   0.,   0.]]))\n",
    "correct.append(np.array([[  0.,   0.,   0.,   0., 200., 193., 164.], [  0.,   0.,   0., 200., 109.,   0., 146.],\n",
    "                         [  0.,   0., 129., 193.,   0.,   0.,   0.], [  0.,   0.,   0., 164., 146.,   0., 182.],\n",
    "                         [  0.,   0.,   0.,   0., 164., 224., 128.], [  0.,   0.,   0.,   0.,   0.,  82.,   0.],\n",
    "                         [  0.,   0.,   0.,   0.,   0.,   0.,   0.]]))\n",
    "correct.append(np.array([[  0.,   0.,   0.,  -0., 215., 259., 171.], [  0.,   0.,  -0., 215., 134., -59., 181.],\n",
    "                         [  0.,   0., 115., 259., -59.,  -4., -40.], [  0.,   0.,   0., 171., 181., -40., 224.],\n",
    "                         [  0.,   0.,   0.,   0., 172., 299., 120.], [  0.,   0.,   0.,   0.,   0.,  59.,   0.],\n",
    "                         [  0.,   0.,   0.,   0.,   0.,   0.,   0.]]))\n",
    "# Check the results\n",
    "orders = [0, 1, 3]\n",
    "names_interp = {0:'Nearest neighbors',1:'Linear', 3:'Cubic'}\n",
    "transformed = [np.round(transform(test_img, 45, 0.9, (0, 3), i)) for i in orders]\n",
    "names = [f'Transformed, {names_interp[i]}' for i in orders]\n",
    "plt.close('all')\n",
    "img_list = []; title_list = []; err_count = 0\n",
    "for i, o in enumerate(orders):\n",
    "    if not np.allclose(correct[i], transformed[i]):\n",
    "        print(f'WARNING!\\nCalling transform with {names_interp[o]} interpolation did not produce the correct result. Check the images below:')\n",
    "        img_list.append(transformed[i]); img_list.append(correct[i]); img_list.append(transformed[i] - correct[i])\n",
    "        title_list.append(names[i]); title_list.append(names[i] + ' (correct)'); title_list.append('Difference')\n",
    "        err_count += 1\n",
    "if err_count > 0:\n",
    "    view = viewer(test_img, title=['Test image'], subplots=(1,1))\n",
    "    view_err = viewer(img_list, title=title_list, subplots=(err_count,3))\n",
    "else:\n",
    "    view = viewer([test_img] + transformed, title=['Test image'] + names, subplots=(2,2))\n",
    "    print('Nice! Your transform function passed the sanity check.')"
   ]
  },
  {
   "cell_type": "markdown",
   "metadata": {
    "deletable": false,
    "editable": false,
    "nbgrader": {
     "cell_type": "markdown",
     "checksum": "542b4cf551926376b8c7e4a75cca3c54",
     "grade": false,
     "grade_id": "cell-90bac97696fbdfce",
     "locked": true,
     "schema_version": 3,
     "solution": false,
     "task": false
    }
   },
   "source": [
    "Now that we have the `transform` function ready, we can start the comparison process. In order to clearly see differences, we want to apply multiple transformations consecutively on the same image using the same interpolation. Specifically, we want to create a function that rotates an image a total of $n$ times around its center by an angle $\\alpha$. For example if $n=5$ and $\\alpha=10$, the image should be roted $5$ times by $10^{\\circ}$ around its center, and not just one time by $50^{\\circ}$. Set the scaling parameter $\\rho = 1$.\n",
    "\n",
    "In the next cell, for **2 points**, implement the function `rotate_n` that takes as input parameters\n",
    "\n",
    "* `img`: the input image,\n",
    "* `alpha`: the angle of each rotation in degrees,\n",
    "* `n`: the number of times the image should be rotated by `alpha`,\n",
    "* `order`: the order of interpolation, as above,\n",
    "\n",
    "and returns:\n",
    "\n",
    "* `out`: the rotated image.\n",
    "\n",
    "<div class='alert alert-info'>\n",
    "\n",
    "<b>Hints:</b> <ul>\n",
    "<li>Make use of the function <code>transform()</code> that you implemented above.</li>\n",
    "<li>Be careful when selecting the center point of an image. Calculating the index of the center point of an array <code>a</code> of length $2n + 1$ might not be as simple as calling <code>len(a)/2</code>. To convince yourself, you can run a simple example using a short one-dimensional array. </li></ul>\n",
    "</div>"
   ]
  },
  {
   "cell_type": "code",
   "execution_count": 31,
   "metadata": {
    "deletable": false,
    "nbgrader": {
     "cell_type": "code",
     "checksum": "76bf39ec6d3a3d04cb595545bfd313e3",
     "grade": false,
     "grade_id": "cell-a03b10d684bb5d32",
     "locked": false,
     "schema_version": 3,
     "solution": true,
     "task": false
    }
   },
   "outputs": [],
   "source": [
    "# Function that rotates an image n times by angle alpha\n",
    "def rotate_n(img, alpha, n, order):\n",
    "    out = np.zeros(img.shape)\n",
    "    \n",
    "    # YOUR CODE HERE\n",
    "    temp = img.copy()\n",
    "    for r_idx in range(n):\n",
    "        temp = transform(temp, alpha, 1, (np.floor(temp.shape[1] / 2), np.floor(temp.shape[0] / 2)), order)\n",
    "    \n",
    "    out = temp\n",
    "    \n",
    "    return out"
   ]
  },
  {
   "cell_type": "markdown",
   "metadata": {
    "deletable": false,
    "editable": false,
    "nbgrader": {
     "cell_type": "markdown",
     "checksum": "1f63b6ebf3121a40a9d46a038ef9a1c8",
     "grade": false,
     "grade_id": "cell-9825fb7baf075db9",
     "locked": true,
     "schema_version": 3,
     "solution": false,
     "task": false
    }
   },
   "source": [
    "Run the next cell to perform a quick sanity check."
   ]
  },
  {
   "cell_type": "code",
   "execution_count": 32,
   "metadata": {
    "deletable": false,
    "editable": false,
    "nbgrader": {
     "cell_type": "code",
     "checksum": "04c6816638c5ea7b3ff20e611a35c4c8",
     "grade": true,
     "grade_id": "cell-d22b17683b2a606a",
     "locked": true,
     "points": 2,
     "schema_version": 3,
     "solution": false,
     "task": false
    }
   },
   "outputs": [
    {
     "data": {
      "application/vnd.jupyter.widget-view+json": {
       "model_id": "f3041d429eac474cb278b5bac6dfb587",
       "version_major": 2,
       "version_minor": 0
      },
      "text/plain": [
       "HBox(children=(Output(layout=Layout(width='80%')), Output(), Output(layout=Layout(width='25%'))))"
      ]
     },
     "metadata": {},
     "output_type": "display_data"
    },
    {
     "data": {
      "application/vnd.jupyter.widget-view+json": {
       "model_id": "d304454efd514f5fbe6780c70af1df59",
       "version_major": 2,
       "version_minor": 0
      },
      "text/plain": [
       "Button(description='Show Widgets', style=ButtonStyle())"
      ]
     },
     "metadata": {},
     "output_type": "display_data"
    },
    {
     "name": "stdout",
     "output_type": "stream",
     "text": [
      "Nice! Your rotate_n function passed the sanity check.\n"
     ]
    }
   ],
   "source": [
    "# Define test image\n",
    "test_img = np.zeros((7,7)); test_img[test_img.shape[0]//2, :] = 255\n",
    "# Correct results\n",
    "correct = []\n",
    "correct.append(np.array([[  0.,   0.,   0.,   0.,   0.,   0.,   0.], [  0.,   0.,   0., 255.,   0.,   0.,   0.],\n",
    "                         [  0.,   0.,   0.,   0.,   0.,   0.,   0.], [  0.,   0., 255., 255.,   0.,   0.,   0.],\n",
    "                         [  0.,   0., 255.,   0.,   0.,   0.,   0.], [  0.,   0.,   0., 255.,   0.,   0.,   0.],\n",
    "                         [  0.,   0.,   0.,   0.,   0.,   0.,   0.]]))\n",
    "correct.append(np.array([[  0.,   0.,   0.,  56.,  25.,   0.,   0.], [  0.,   6.,  51., 161.,  26.,   0.,   0.],\n",
    "                         [  0.,   1.,  58., 121.,  57.,   0.,   0.], [  0.,   4.,  63., 255.,  63.,   4.,   0.],\n",
    "                         [  0.,   0.,  57., 121.,  58.,   1.,   0.], [  0.,   0.,  26., 161.,  51.,   6.,   0.],\n",
    "                         [  0.,   0.,  25.,  56.,   0.,   0.,   0.]]))\n",
    "correct.append(np.array([[  0.,   0.,   0.,  66., -13.,   0.,   0.], [  0.,  -8.,  31., 268.,   2.,  -7.,   0.],\n",
    "                         [  2., -14.,  13., 200.,  32.,  -8.,   0.], [  3., -15.,  28., 255.,  28., -15.,   3.],\n",
    "                         [  0.,  -8.,  32., 200.,  13., -14.,   2.], [  0.,  -7.,   2., 268.,  31.,  -8.,   0.],\n",
    "                         [  0.,   0., -13.,  66.,   0.,   0.,   0.]]))\n",
    "orders = [0, 1, 3]\n",
    "# Rotate 3 times by 30 degrees\n",
    "rotated = [np.round(rotate_n(test_img, alpha=30, n=3, order=o)) for o in orders]\n",
    "# Check if correct\n",
    "names_interp = {0:'Nearest neighbors', 1:'Linear', 3:'Cubic'}\n",
    "names = [f'Rotated 3x30, {names_interp[i]}' for i in orders]\n",
    "plt.close('all')\n",
    "img_list = []; title_list = []; err_count = 0\n",
    "for i, o in enumerate(orders):\n",
    "    if not np.allclose(correct[i], rotated[i]):\n",
    "        print(f'WARNING!\\nCalling rotate_n with {names_interp[o]} interpolation did not produce the correct result. Check the images below:')\n",
    "        img_list.append(rotated[i]); img_list.append(correct[i]); img_list.append(rotated[i] - correct[i])\n",
    "        title_list.append(names[i]); title_list.append(names[i] + ' (correct)'); title_list.append('Difference')\n",
    "        err_count += 1\n",
    "if err_count > 0:\n",
    "    view = viewer(test_img, title=['Test image'], subplots=(1,1))\n",
    "    view_err = viewer(img_list, title=title_list, subplots=(err_count,3))\n",
    "else:\n",
    "    view = viewer([test_img] + rotated, title=['Test image'] + names, subplots=(2,2))\n",
    "    print('Nice! Your rotate_n function passed the sanity check.')"
   ]
  },
  {
   "cell_type": "markdown",
   "metadata": {
    "deletable": false,
    "editable": false,
    "nbgrader": {
     "cell_type": "markdown",
     "checksum": "41fb24de7ed0e7a043333434fcff13c8",
     "grade": false,
     "grade_id": "cell-3a706ef3ef0830e2",
     "locked": true,
     "schema_version": 3,
     "solution": false,
     "task": false
    }
   },
   "source": [
    "In the cell below, we provide you with a viewer where you can play around with the `rotate_n` function to get a feeling for why a good interpolation is so important.\n",
    "<div class = 'alert alert-success'>\n",
    "    \n",
    "<b>Note</b>: If you want to see some cool artifacts from nearest neighbor interpolation, try very small angles of rotation. This will also show the improvement from the other interpolators. An example to start trying: $\\alpha=1.5^{\\circ}$, $n=10$.\n",
    "</div>"
   ]
  },
  {
   "cell_type": "code",
   "execution_count": 33,
   "metadata": {
    "deletable": false,
    "editable": false,
    "nbgrader": {
     "cell_type": "code",
     "checksum": "33319f5a343a79e1070857527e8af008",
     "grade": false,
     "grade_id": "cell-299ce91068a89d30",
     "locked": true,
     "schema_version": 3,
     "solution": false,
     "task": false
    }
   },
   "outputs": [
    {
     "data": {
      "application/vnd.jupyter.widget-view+json": {
       "model_id": "d1a34ddacfd148bbad6517a97d799565",
       "version_major": 2,
       "version_minor": 0
      },
      "text/plain": [
       "HBox(children=(Output(layout=Layout(width='80%')), Output(), Output(layout=Layout(width='25%'))))"
      ]
     },
     "metadata": {},
     "output_type": "display_data"
    }
   ],
   "source": [
    "# Define the sliders and button\n",
    "alpha_slider = widgets.FloatSlider(value=0, min=-90, max=90, step=0.5, description='α')\n",
    "n_slider = widgets.IntSlider(value=5, min=1, max=10, description='n')\n",
    "order_dropdown = widgets.Dropdown(options=['0: Nearest neighbor', '1: Linear', '3: Cubic'], value='1: Linear', description='order:', disabled=False)\n",
    "order_dictionary = {'0: Nearest neighbor':0, '1: Linear':1, '3: Cubic':3}\n",
    "button = widgets.Button(description='Apply rotations')\n",
    "\n",
    "# Rotate and scale callback function \n",
    "def rotate_n_callback(img):\n",
    "    # retreive slider values for angle, scale and center\n",
    "    alpha = alpha_slider.value\n",
    "    n = n_slider.value\n",
    "    order = order_dictionary[order_dropdown.value]\n",
    "    # Perform n rotations by alpha\n",
    "    return rotate_n(img, alpha, n, order)\n",
    "\n",
    "# Visualize angle and scale effect during transformation\n",
    "plt.close(\"all\")\n",
    "view = viewer([alsace], title = 'Alsace', new_widgets = [order_dropdown, alpha_slider, n_slider, button], \n",
    "              callbacks = [rotate_n_callback], widgets = True)"
   ]
  },
  {
   "cell_type": "markdown",
   "metadata": {
    "deletable": false,
    "editable": false,
    "nbgrader": {
     "cell_type": "markdown",
     "checksum": "891c9f30c31969c3ffcd7f429092e102",
     "grade": false,
     "grade_id": "cell-95ea9728b7c8f6c3",
     "locked": true,
     "schema_version": 3,
     "solution": false,
     "task": false
    }
   },
   "source": [
    "In case you still haven't been convinced by the cubic interpolation, let us now plot the signal to noise ratio of the three interpolators when rotating an image $n$ times by $35^{\\circ}$ and then $n$ times by $-35^{\\circ}$. Run the next cell to do so."
   ]
  },
  {
   "cell_type": "code",
   "execution_count": 37,
   "metadata": {
    "deletable": false,
    "editable": false,
    "nbgrader": {
     "cell_type": "code",
     "checksum": "9d55e036185f7951ca4a49866ef2a487",
     "grade": false,
     "grade_id": "cell-e3172c82236e2c6f",
     "locked": true,
     "schema_version": 3,
     "solution": false,
     "task": false
    }
   },
   "outputs": [
    {
     "data": {
      "application/vnd.jupyter.widget-view+json": {
       "model_id": "f10d0e1c90c44c7e92c51f6331854281",
       "version_major": 2,
       "version_minor": 0
      },
      "image/png": "[encoded data removed]",
      "text/plain": [
       "Canvas(toolbar=Toolbar(toolitems=[('Home', 'Reset original view', 'home', 'home'), ('Pan', 'Pan axes with left…"
      ]
     },
     "metadata": {},
     "output_type": "display_data"
    }
   ],
   "source": [
    "# Function that computes the signal to noise ratio between two images\n",
    "def SNR(img, img_ref):\n",
    "    return 10*np.log10(np.sum(img.astype(np.float64)**2)/np.sum((img_ref.astype(np.float64)-img.astype(np.float64))**2))\n",
    "# Rotate images up to 10 times by 35 degrees and back\n",
    "alpha = 35\n",
    "ns = np.arange(1, 11, dtype=int)\n",
    "snr_nn  = [SNR(rotate_n(rotate_n(alsace, alpha, n, 0), -alpha, n, 0), alsace) for n in ns]\n",
    "snr_lin = [SNR(rotate_n(rotate_n(alsace, alpha, n, 1), -alpha, n, 1), alsace) for n in ns]\n",
    "snr_cub = [SNR(rotate_n(rotate_n(alsace, alpha, n, 3), -alpha, n, 3), alsace) for n in ns]\n",
    "# Display graphs\n",
    "plt.close('all'); plt.figure()\n",
    "plt.plot(ns, snr_nn,  label='nn')\n",
    "plt.plot(ns, snr_lin, label='linear')\n",
    "plt.plot(ns, snr_cub, label='cubic')\n",
    "plt.legend(); plt.title('SNR of images rotated n times by $35^{\\circ}$ and back')\n",
    "plt.grid()\n",
    "plt.ylabel('SNR [dB]'); plt.xlabel('n'); plt.show()"
   ]
  },
  {
   "cell_type": "markdown",
   "metadata": {
    "deletable": false,
    "editable": false,
    "nbgrader": {
     "cell_type": "markdown",
     "checksum": "8908d5472da23af359ee3f77cc6caa58",
     "grade": false,
     "grade_id": "cell-6cc90cb083ab4bfd",
     "locked": true,
     "schema_version": 3,
     "solution": false,
     "task": false
    }
   },
   "source": [
    "# 2. Image registration\n",
    "[Back to table of contents](#ToC_2_GT_Applications)\n",
    "\n",
    "In this section you will use your newly gained knowledge in image transformation to align two images in terms of rotation and zoom. In our example, we will use a map and a satellite image of Sicily. Since these two images are not aligned, one of the two images should be transformed to match the other one using the `transform()` function defined in the first part. Let's define the satellite image as the **original** image and the map image as the **target** image, so we want to align the satellite to the map image.\n",
    "\n",
    "<table><tr>\n",
    "<td>\n",
    "  <p align=\"center\" style=\"padding: 10px\">\n",
    "    <img alt=\"Routing\" src=\"images/sicilia_photo.png\" width=\"220\"><br>\n",
    "    <em style=\"color: grey\">Satellite image of Sicily</em>\n",
    "  </p> \n",
    "</td>\n",
    "<td> \n",
    "  <p align=\"center\">\n",
    "    <img src=\"images/sicilia_map.png\" alt=\"Drawing\" style=\"width: 220px;\"/><br>\n",
    "    <em style=\"color: grey\">Map of Sicily</em>\n",
    "  </p> \n",
    "</td>\n",
    "</tr></table>\n"
   ]
  },
  {
   "cell_type": "markdown",
   "metadata": {
    "deletable": false,
    "editable": false,
    "nbgrader": {
     "cell_type": "markdown",
     "checksum": "51b9d9af48d657282da69405dd73cb70",
     "grade": false,
     "grade_id": "cell-8ca478440385c9b6",
     "locked": true,
     "schema_version": 3,
     "solution": false,
     "task": false
    }
   },
   "source": [
    "## 2.A. Implementation (3 points)\n",
    "[Back to table of contents](#ToC_2_GT_Applications)\n",
    "\n",
    "In order to correctly transform the original image, we need to know the angle, the scaling and the center point of the transformation. To determine these parameters, we first need to identify at least two features that are present in each image. In our case, for example, the island of Malta and the city of Messina are good candidates. Having identified those two features in both images, we can calculate the vector going from the first to the second feature in both images. Let's denote this vector in the original image by $\\mathbf{u}=[u_x, u_y]^T$ and the one in the target image by $\\mathbf{v}=[v_x, v_y]^T$. From these two vectors, we can then calculate the angle and the scale of the transformation needed to match them.\n",
    "\n",
    "The center point can be calculated by re-arranging the transformation equation\n",
    "\n",
    "$$\n",
    "(\\mathbf{v}-\\mathbf{c}) = \\mathbf{A}(\\mathbf{u} - \\mathbf{c}) \\mbox{ to obtain }\n",
    "\\mathbf{c} = (\\mathbf{A} - \\mathbf{I})^{-1}(\\mathbf{A}\\mathbf{u} - \\mathbf{v} )\\,,\n",
    "$$\n",
    "\n",
    "where $\\mathbf{A}$ is the rotation matrix.\n",
    "\n",
    "Remember that in the `transform()` function, we used `cv.getRotationMatrix2D(center, angle, scale)` with `center=(cy, cx)` and `scale=1/scaling` to obtain the **inverse** transformation matrix of size $2 \\times 3$, with the last column being the translational component. Similarly you can obtain the simple $2 \\times 2$ rotation matrix $\\mathbf{A}$ by **only keeping the first two columns** of the result of this same function, when called with `center=(0, 0)` and `scale=scaling` (remember that in *NumPy*, you can use `array = array[:, :-1]` to drop the last column of an array). \n",
    "\n",
    "For **3 points**, complete the `register()` function below, which performs the image registration explained above when given two vectors $\\mathbf{u}$ and $\\mathbf{v}$.  The function takes as input parameters\n",
    "\n",
    " * `img`: the original image, \n",
    " * `u1`: a $1 \\times 2$ NumPy array containing the (x,y) coordinates of the first point in the original image, \n",
    " * `u2`: a $1 \\times 2$ NumPy array containing the (x,y) coordinates of the second point in the original image,\n",
    " * `v1`: a $1 \\times 2$ NumPy array containing the (x,y) coordinates of the first point in the target image, \n",
    " * `v2`: a $1 \\times 2$ NumPy array containing the (x,y) coordinates of the second point in the target image,\n",
    " \n",
    "and outputs\n",
    "\n",
    " * `out`: the registered image.\n",
    "\n",
    "You will have to compute the `scaling`, `angle`, and `center` of rotation, to be used as parameters for the function `transform()`. When calling `transform()`, make sure to use cubic interpolation.\n",
    "<div class=\"alert alert-info\">\n",
    "    \n",
    "<b>Hint:</b> You might want to use the following functions: <a href='https://numpy.org/doc/stable/reference/generated/numpy.linalg.norm.html'><code>np.linalg.norm</code></a>, <a href='https://numpy.org/doc/stable/reference/generated/numpy.arctan2.html'><code>np.arctan2</code></a>, <a href='https://numpy.org/doc/stable/reference/generated/numpy.dot.html'><code>np.dot</code></a>, <a href='https://numpy.org/doc/stable/reference/generated/numpy.linalg.inv.html'><code>np.linalg.inv</code></a> and <a href='https://numpy.org/doc/stable/reference/generated/numpy.identity.html'><code>np.identity</code></a>. Check their documentation (click on their names here) if you are not familiar with them.\n",
    "</div>"
   ]
  },
  {
   "cell_type": "code",
   "execution_count": 38,
   "metadata": {
    "deletable": false,
    "nbgrader": {
     "cell_type": "code",
     "checksum": "bba69e632ad07393e1259112259a288f",
     "grade": false,
     "grade_id": "cell-cd538ed31b6dead8",
     "locked": false,
     "schema_version": 3,
     "solution": true,
     "task": false
    }
   },
   "outputs": [],
   "source": [
    "def register(img, u1, v1, u2, v2):\n",
    "    # You will have to recompute these parameters\n",
    "    angle = 0\n",
    "    scaling = 1\n",
    "    center = [0,0]\n",
    "    #    center = np.linalg.inv(A - np.identity(2)) @ (np.dot(A, u) - v)\n",
    "\n",
    "    \n",
    "    # Compute vectors from points\n",
    "    # Vector in the original image\n",
    "    u = u2 - u1\n",
    "    # Vector in the target image\n",
    "    v = v2 - v1\n",
    "    \n",
    "    # Compute angle, scaling and center\n",
    "    # YOUR CODE HERE\n",
    "    scaling = np.linalg.norm(v) / np.linalg.norm(u)\n",
    "    angle = (np.arctan2(u[1], u[0]) - np.arctan2(v[1], v[0])) * 180 / np.pi\n",
    "\n",
    "    A = cv.getRotationMatrix2D((0, 0), angle, scaling)[:, :-1]\n",
    "    center = np.dot(np.linalg.inv(A - np.identity(2)), (np.dot(A, u1) - v1))\n",
    "    print(center)\n",
    "    \n",
    "    # Call the transform function with the calculated paremeters\n",
    "    return transform(img, angle=angle, scaling=scaling, center=(center[1], center[0]), order=3)"
   ]
  },
  {
   "cell_type": "markdown",
   "metadata": {
    "deletable": false,
    "editable": false,
    "nbgrader": {
     "cell_type": "markdown",
     "checksum": "03ae7484b92211a583963491969e5677",
     "grade": false,
     "grade_id": "cell-4e923ce4c4dcb720",
     "locked": true,
     "schema_version": 3,
     "solution": false,
     "task": false
    }
   },
   "source": [
    "Run the cell below for a quick sanity check. The two reference points in the test image are the leftmost and rightmost points of the long line."
   ]
  },
  {
   "cell_type": "code",
   "execution_count": 39,
   "metadata": {
    "deletable": false,
    "editable": false,
    "nbgrader": {
     "cell_type": "code",
     "checksum": "bf2b598524b6d3342f4473ca811b3cf9",
     "grade": true,
     "grade_id": "cell-292a8bafba09f8a2",
     "locked": true,
     "points": 3,
     "schema_version": 3,
     "solution": false,
     "task": false
    }
   },
   "outputs": [
    {
     "name": "stdout",
     "output_type": "stream",
     "text": [
      "[30.87028253 70.25984739]\n",
      "Congrats! Your register function seems correct!\n"
     ]
    },
    {
     "data": {
      "application/vnd.jupyter.widget-view+json": {
       "model_id": "12a234f427b44b97911d90713a3f7485",
       "version_major": 2,
       "version_minor": 0
      },
      "text/plain": [
       "HBox(children=(Output(layout=Layout(width='80%')), Output(), Output(layout=Layout(width='25%'))))"
      ]
     },
     "metadata": {},
     "output_type": "display_data"
    },
    {
     "data": {
      "application/vnd.jupyter.widget-view+json": {
       "model_id": "0ee2e7f6bc44496881779d1333a733b1",
       "version_major": 2,
       "version_minor": 0
      },
      "text/plain": [
       "Button(description='Show Widgets', style=ButtonStyle())"
      ]
     },
     "metadata": {},
     "output_type": "display_data"
    }
   ],
   "source": [
    "# Define test image target\n",
    "test_img_target = np.zeros((101,101)) \n",
    "test_img_target[50, 10:90] = 1\n",
    "test_img_target[20:50, 50] = 1\n",
    "# Transform target to create original\n",
    "test_img_original = transform(test_img_target, angle=-60, scaling=0.6, center=(70, 30), order=3)\n",
    "# Define points\n",
    "u1, u2 = np.array((35, 54)), np.array((58, 94))\n",
    "v1, v2 = np.array((10, 50)), np.array((90, 50))\n",
    "# Register image\n",
    "test_img_registered = register(test_img_original, u1, v1, u2, v2)\n",
    "# Generate correctly registered image by back-transforming the original image (with the parameters from the ref vectors)\n",
    "test_img_reg_corr = transform(test_img_original, angle=60.1011, scaling=1.7338, center=(70.2598, 30.8703), order=3)\n",
    "if np.allclose(test_img_registered, test_img_reg_corr, atol=1e-3):\n",
    "    print('Congrats! Your register function seems correct!')\n",
    "else:\n",
    "    print('WARNING!\\nThe registration function is not yet correct. Look at the images below to see the differences.')\n",
    "plt.close('all')\n",
    "view = viewer([test_img_original, test_img_target, test_img_registered, test_img_reg_corr],\n",
    "              title=['Original test image', 'Target test image', 'Your registered image', 'Correctly registered image'], \n",
    "              subplots=(2,2))"
   ]
  },
  {
   "cell_type": "markdown",
   "metadata": {
    "deletable": false,
    "editable": false,
    "nbgrader": {
     "cell_type": "markdown",
     "checksum": "1d3586c46c6bb170948329477862c701",
     "grade": false,
     "grade_id": "cell-1f1909ad7c78cf1a",
     "locked": true,
     "schema_version": 3,
     "solution": false,
     "task": false
    }
   },
   "source": [
    "## 2.B. Experimentation\n",
    "[Back to table of contents](#ToC_2_GT_Applications)\n",
    "\n",
    "In this section, we are going to make direct use of your previous implementations to map the `sicilia_map` and `EPFL_map` images to `sicilia_photo` and `EPFL_photo`, respectively. For this purpose, we provide you with a viewer that allows you to select the mapping points and perform the transformations. Make sure that the reference points you select in the original image correspond to the same reference points in the target image.\n",
    "\n",
    "<div class=\"alert alert-success\">\n",
    "    \n",
    "<b>Note:</b> The vectors $\\mathbf{u}=(u_1, u_2)^T$ and $\\mathbf{v}=(v_1, v_2)^T$ are specified using the viewer with <code>clickable=True</code>. Two images will displayed side by side, and you will have to click with your mouse to\n",
    "\n",
    "<ol><li>select $u_1$ on the first image,</li>\n",
    "<li>select $v_1$ on the second image,</li>\n",
    "<li>select $u_2$ on the first image,</li>\n",
    "<li>select $v_2$ on the second image</li></ol>\n",
    "\n",
    "in that order. In case you get it wrong and want to start again, you can 1) finish the selection and click again on the first image to start again, 2) click on the button *Reset* (loosing any zoom and pan you may have done), or 3) run the cell again to get a fresh new viewer. \n",
    "\n",
    "Marks will appear at the clicked point location on the selected image as well as the following display in the statistics panne<code>['click:i,x=***, y=***']</code>. Once the four points are selected, go to the menu <code>Extra Widgets</code> and use the button <code>Register Image</code> to perform the registration.\n",
    "\n",
    "</div>"
   ]
  },
  {
   "cell_type": "code",
   "execution_count": 40,
   "metadata": {
    "deletable": false,
    "editable": false,
    "nbgrader": {
     "cell_type": "code",
     "checksum": "9a89dd74bbf7487301277becd331276f",
     "grade": false,
     "grade_id": "cell-2b68db4380062e31",
     "locked": true,
     "schema_version": 3,
     "solution": false,
     "task": false
    }
   },
   "outputs": [
    {
     "data": {
      "application/vnd.jupyter.widget-view+json": {
       "model_id": "9c1a5065fceb4915b7181cd619749ae3",
       "version_major": 2,
       "version_minor": 0
      },
      "text/plain": [
       "HBox(children=(Output(layout=Layout(width='80%')), Output(), Output(layout=Layout(width='25%'))))"
      ]
     },
     "metadata": {},
     "output_type": "display_data"
    }
   ],
   "source": [
    "button = widgets.Button(description = 'Register Image')\n",
    "\n",
    "def save_points(img, coords): \n",
    "    if len(coords) == 4: \n",
    "        u1 = np.array([coords[0]['x'],coords[0]['y']])\n",
    "        v1 = np.array([coords[1]['x'],coords[1]['y']])\n",
    "        u2 = np.array([coords[2]['x'],coords[2]['y']])\n",
    "        v2 = np.array([coords[3]['x'],coords[3]['y']])\n",
    "        #print(u1, v1, u2, v2)\n",
    "        return register(img, u1, v1, u2, v2)\n",
    "    else: \n",
    "        print('Select ', 4 - len(coords), 'points more.')\n",
    "        return img\n",
    "\n",
    "plt.close('all')\n",
    "sicily_view = viewer([sicilia_photo, sicilia_map], title=['Sicilia map','Sicilia photo'], new_widgets=[button],\n",
    "                     callbacks=[save_points], widgets=True, subplots=(1,2), clickable=True)"
   ]
  },
  {
   "cell_type": "markdown",
   "metadata": {
    "deletable": false,
    "editable": false,
    "nbgrader": {
     "cell_type": "markdown",
     "checksum": "16cbf0b0089f75e24358d6dff38e0613",
     "grade": false,
     "grade_id": "cell-f555caee299a57ea",
     "locked": true,
     "schema_version": 3,
     "solution": false,
     "task": false
    }
   },
   "source": [
    "Now let's try it with the EPFL campus images. This time we align the map to the satellite image."
   ]
  },
  {
   "cell_type": "code",
   "execution_count": 41,
   "metadata": {
    "deletable": false,
    "editable": false,
    "nbgrader": {
     "cell_type": "code",
     "checksum": "e51335f9123e2f1bfa852eb1e0f57bf3",
     "grade": false,
     "grade_id": "cell-81210308b673c24c",
     "locked": true,
     "schema_version": 3,
     "solution": false,
     "task": false
    }
   },
   "outputs": [
    {
     "data": {
      "application/vnd.jupyter.widget-view+json": {
       "model_id": "0d3b99962b994e4b80d065060f755abc",
       "version_major": 2,
       "version_minor": 0
      },
      "text/plain": [
       "HBox(children=(Output(layout=Layout(width='80%')), Output(), Output(layout=Layout(width='25%'))))"
      ]
     },
     "metadata": {},
     "output_type": "display_data"
    }
   ],
   "source": [
    "plt.close('all')\n",
    "epfl_viewer = viewer([EPFL_map, EPFL_photo], title=['EPFL map', 'EPFL photo'], new_widgets=[button],\n",
    "                     callbacks=[save_points], widgets=True, subplots=(1,2), clickable=True)"
   ]
  },
  {
   "cell_type": "markdown",
   "metadata": {},
   "source": [
    "# 3. Image distortion\n",
    "[Back to table of contents](#ToC_2_GT_Applications)\n",
    "\n",
    "<table><tr>\n",
    "<td> \n",
    "  <p align=\"center\" style=\"padding: 10px\">\n",
    "    <img alt=\"Forwarding\" src=\"images/distort1.png\" width=\"220\">\n",
    "    <br>\n",
    "    <em style=\"color: grey\">Eiffel tower </em>\n",
    "  </p> \n",
    "</td>\n",
    "<td> \n",
    "  <p align=\"center\">\n",
    "    <img alt=\"Routing\" src=\"images/distort2.png\" width=\"220\">\n",
    "    <br>\n",
    "    <em style=\"color: grey\">Distorted Eiffel tower</em>\n",
    "  </p> \n",
    "</td>\n",
    "</tr></table>\n",
    "\n",
    "In this section, your job is to complete the function `distortion()`. This function distorts an image by setting the value in the target image position $\\mathbf{x_1}=(i_1, j_1)$ that was in position $\\mathbf{x_2}=(i_2, j_2)$ in the original image, with the pixel-wise relation\n",
    "\n",
    "$$\n",
    "i_2 = i_1 + \\delta(i_1,j_1)(u_i - v_i) \\mbox{, and }j_2 = j_1 + \\delta(i_1,j_1) (u_j - v_j)\\,.\n",
    "$$\n",
    "\n",
    "Here, two points $\\mathbf{u} = (u_i, u_j)$ and $\\mathbf{v} = (v_i, v_j)$ specify the direction of the displacement, while the magnitude is regulated by $\\delta(i_1,j_1)$ as\n",
    "\n",
    "$$\n",
    "\\delta(i_1,j_1) = \\exp\\left(-\\frac{(i_1 - v_i)^2 + (j_1 - v_j)^2}{k^2}\\right)\\,.\n",
    "$$\n",
    "\n",
    "Note that in the particular case where $\\mathbf{x_1}=\\mathbf{v}$ in the target image, the resulting value in the original image is taken from $\\mathbf{x_2}=\\mathbf{u}$."
   ]
  },
  {
   "cell_type": "markdown",
   "metadata": {
    "deletable": false,
    "editable": false,
    "nbgrader": {
     "cell_type": "markdown",
     "checksum": "738f00d8861606bcf9e2667c02745024",
     "grade": false,
     "grade_id": "cell-775c3075098584ad",
     "locked": true,
     "schema_version": 3,
     "solution": false,
     "task": false
    }
   },
   "source": [
    "## 3.A. Implementation (3 points)\n",
    "[Back to table of contents](#ToC_2_GT_Applications)\n",
    "\n",
    "Make sure to understand the proposed operation before starting to code, and **for 1 point** answer the following MCQ:\n",
    "\n",
    "* Q1: What happens when we **increase** the parameter $k$?\n",
    "\n",
    "    1. The direction of the distortion will be more horizontal,\n",
    "    2. the direction of the distortion will be more vertical,\n",
    "    3. a larger area of the image will be affected by the distortion, or\n",
    "    4. a smaller area of the image will be affected by the distortion.\n",
    "\n",
    "<div class=\" alert alert-info\">\n",
    "\n",
    "**Note:** To answer, change the variable `answer` in the cell below to the number corresponding to your choice. Then run the cell below to check that your answer is valid. \n",
    "</div>"
   ]
  },
  {
   "cell_type": "code",
   "execution_count": 42,
   "metadata": {
    "deletable": false,
    "nbgrader": {
     "cell_type": "code",
     "checksum": "48c2b4b69f00af67328e24157507d03d",
     "grade": false,
     "grade_id": "cell-2cd9b76cc1aeb1aa",
     "locked": false,
     "schema_version": 3,
     "solution": true,
     "task": false
    }
   },
   "outputs": [],
   "source": [
    "# Modify the variable answer\n",
    "answer = 3\n",
    "# YOUR CODE HERE"
   ]
  },
  {
   "cell_type": "code",
   "execution_count": 43,
   "metadata": {
    "deletable": false,
    "editable": false,
    "nbgrader": {
     "cell_type": "code",
     "checksum": "b524490d0e5476d6bfd12c0b00b522a4",
     "grade": true,
     "grade_id": "cell-d2ccf681162b855b",
     "locked": true,
     "points": 1,
     "schema_version": 3,
     "solution": false,
     "task": false
    }
   },
   "outputs": [],
   "source": [
    "# Sanity check\n",
    "if not answer in [1, 2, 3, 4]:\n",
    "    print('WARNING!\\nValid answers are 1, 2, 3 and 4.')"
   ]
  },
  {
   "cell_type": "markdown",
   "metadata": {
    "deletable": false,
    "editable": false,
    "nbgrader": {
     "cell_type": "markdown",
     "checksum": "f2f12cf632d35e6e52e33153ab1dd736",
     "grade": false,
     "grade_id": "cell-5b7ec3a51a3e14d7",
     "locked": true,
     "schema_version": 3,
     "solution": false,
     "task": false
    }
   },
   "source": [
    "**For 2 points**, complete the function `distort` in the next cell. The function `distort(i, j, u_i, u_j, v_i, v_j, k)` takes as input parameters\n",
    "\n",
    "* `i`: $i_1$,\n",
    "* `j`: $j_1$,\n",
    "* `u_i`: $u_i$,\n",
    "* `u_j`: $u_j$,\n",
    "* `v_i`: $v_i$,\n",
    "* `v_j`: $v_j$, and\n",
    "* `k`: $k$,\n",
    "    \n",
    "and returns\n",
    "\n",
    "* `i_new`, `j_new`: $i_2$, $j_2$.\n",
    "\n",
    "<div class = 'alert alert-info'>\n",
    "\n",
    "<b>Hint</b>: For the exponential function, use [`np.exp`](https://numpy.org/doc/stable/reference/generated/numpy.exp.html).\n",
    "</div>\n",
    "<div class = 'alert alert-warning'>\n",
    "\n",
    "<b>Beware</b>: Make sure to calculate <code>i_new</code> and <code>j_new</code> separately (don't perform any vector calculations). We will call the <code>distort()</code> function passing two-dimensional arrays in <code>i</code> and <code>j</code>, so putting them together in a vector would probably fail and/or complicate the implementation unnecessarily.\n",
    "</div>"
   ]
  },
  {
   "cell_type": "code",
   "execution_count": 44,
   "metadata": {
    "deletable": false,
    "nbgrader": {
     "cell_type": "code",
     "checksum": "e7ab5d15273a642c5c8bd317b280a2d8",
     "grade": false,
     "grade_id": "cell-6bf7b6777cd2fd8f",
     "locked": false,
     "schema_version": 3,
     "solution": true,
     "task": false
    }
   },
   "outputs": [],
   "source": [
    "# Function that distorts an image along the vector (v_i, v_j) - (u_i, u_j)\n",
    "def distort(i, j, u_i, u_j, v_i, v_j, k):\n",
    "    # Initialize new indices i_new and j_new of the distorted image\n",
    "    i_new = i\n",
    "    j_new = j\n",
    "    \n",
    "    # YOUR CODE HERE\n",
    "    sigma = np.exp(-(np.power(i-v_i, 2) + np.power(j-v_j, 2)) / np.power(k, 2))\n",
    "    i_new = i + sigma * (u_i - v_i)\n",
    "    j_new = j + sigma * (u_j - v_j)\n",
    "\n",
    "    return i_new, j_new"
   ]
  },
  {
   "cell_type": "markdown",
   "metadata": {
    "deletable": false,
    "editable": false,
    "nbgrader": {
     "cell_type": "markdown",
     "checksum": "0a485a32e096971748ea9d685345a6b3",
     "grade": false,
     "grade_id": "cell-f7b9e869f65f5381",
     "locked": true,
     "schema_version": 3,
     "solution": false,
     "task": false
    }
   },
   "source": [
    "Let us perform a sanity check on the `distort` function."
   ]
  },
  {
   "cell_type": "code",
   "execution_count": 45,
   "metadata": {
    "deletable": false,
    "editable": false,
    "nbgrader": {
     "cell_type": "code",
     "checksum": "25ba5d983a8aa9d027b5b781c9922f72",
     "grade": true,
     "grade_id": "cell-b00af28241ddffda",
     "locked": true,
     "points": 2,
     "schema_version": 3,
     "solution": false,
     "task": false
    }
   },
   "outputs": [
    {
     "name": "stdout",
     "output_type": "stream",
     "text": [
      "Your distorted i-coordinates:\n",
      "[[1.711 1.85  1.938 1.969 1.938]\n",
      " [2.738 2.879 2.969 3.    2.969]\n",
      " [3.711 3.85  3.938 3.969 3.938]\n",
      " [4.632 4.765 4.85  4.879 4.85 ]\n",
      " [5.51  5.632 5.711 5.738 5.711]]\n",
      "\n",
      "Your distorted j-coordinates:\n",
      "[[-1.711 -0.85   0.062  1.031  2.062]\n",
      " [-1.738 -0.879  0.031  1.     2.031]\n",
      " [-1.711 -0.85   0.062  1.031  2.062]\n",
      " [-1.632 -0.765  0.15   1.121  2.15 ]\n",
      " [-1.51  -0.632  0.289  1.262  2.289]]\n",
      "\n",
      "Well done! Your distort function passed the sanity check.\n"
     ]
    }
   ],
   "source": [
    "# Define correct distorted indices\n",
    "i_corr = np.array([[ 1.711,  1.85 ,  1.938,  1.969,  1.938], [ 2.738,  2.879,  2.969,  3.   ,  2.969],\n",
    "                   [ 3.711,  3.85 ,  3.938,  3.969,  3.938], [ 4.632,  4.765,  4.85 ,  4.879,  4.85 ],\n",
    "                   [ 5.51 ,  5.632,  5.711,  5.738,  5.711]])\n",
    "j_corr = np.array([[-1.711, -0.85 ,  0.062,  1.031,  2.062], [-1.738, -0.879,  0.031,  1.   ,  2.031],\n",
    "                   [-1.711, -0.85 ,  0.062,  1.031,  2.062], [-1.632, -0.765,  0.15 ,  1.121,  2.15 ],\n",
    "                   [-1.51 , -0.632,  0.289,  1.262,  2.289]])\n",
    "# Define the distortion parameters\n",
    "u = [3, 1]\n",
    "v = [1, 3]\n",
    "k = 8\n",
    "# Call the distortion function on the indices of a 5x5 image\n",
    "idxs = np.round(np.fromfunction(lambda i, j: distort(i, j, u[0], u[1], v[0], v[1], k), shape=(5,5)), 3)\n",
    "print(f'Your distorted i-coordinates:\\n{idxs[0]}\\n\\nYour distorted j-coordinates:\\n{idxs[1]}\\n')\n",
    "# Compare the result\n",
    "check_error = False\n",
    "if not np.allclose(i_corr, idxs[0], atol=1e-3):\n",
    "    print(f'WARNING!\\nYour distorted i-coordinates are not yet correct.\\n\\nCorrectly distorted i-coordinates:\\n{i_corr}\\n')\n",
    "    check_error = True\n",
    "if not np.allclose(j_corr, idxs[1], atol=1e-3):\n",
    "    print(f'WARNING!\\nYour distorted j-coordinates are not yet correct.\\n\\nCorrectly distorted j-coordinates:\\n{j_corr}\\n')\n",
    "    check_error = True\n",
    "if not check_error:\n",
    "    print('Well done! Your distort function passed the sanity check.')"
   ]
  },
  {
   "cell_type": "markdown",
   "metadata": {
    "deletable": false,
    "editable": false,
    "nbgrader": {
     "cell_type": "markdown",
     "checksum": "ec7a776ee221a9c10ea6dadd2d4fe12d",
     "grade": false,
     "grade_id": "cell-a287dc129bf2975f",
     "locked": true,
     "schema_version": 3,
     "solution": false,
     "task": false
    }
   },
   "source": [
    "## 3.B. Experimentation\n",
    "[Back to table of contents](#ToC_2_GT_Applications)\n",
    "\n",
    "Now we will again create an interactive viewer so that you can play around with the `distort()` function. Like in in the `register()` experimentation, you can click on the image to define the points $\\mathbf{u}$ and $\\mathbf{v}$ and then click on `Distort` to apply the distortion. Additionally you can choose the value for the parameter $k$ with the slider. You will need to click on the `Distort` button again to apply any new value for $k$.\n",
    "\n",
    "If you look at the code below, you can see that we apply your distort function to all pixel locations of the eiffel image, using [`np.fromfunction`](https://numpy.org/doc/stable/reference/generated/numpy.fromfunction.html). This gives us all the distorted pixel indices for the entire image, which we can then interpolate with a cubic spline interpolation by using the function [`ndimage.map_coordinates`](https://docs.scipy.org/doc/scipy/reference/generated/scipy.ndimage.map_coordinates.html). If you're interested, you can go check out their documentation."
   ]
  },
  {
   "cell_type": "code",
   "execution_count": 46,
   "metadata": {
    "deletable": false,
    "editable": false,
    "nbgrader": {
     "cell_type": "code",
     "checksum": "df4e54788dad6f82563d453cbb061826",
     "grade": false,
     "grade_id": "cell-59f5ca5f5e4db16b",
     "locked": true,
     "schema_version": 3,
     "solution": false,
     "task": false
    }
   },
   "outputs": [
    {
     "data": {
      "application/vnd.jupyter.widget-view+json": {
       "model_id": "27ea40e7bf654de38dc368f22610844b",
       "version_major": 2,
       "version_minor": 0
      },
      "text/plain": [
       "HBox(children=(Output(layout=Layout(width='80%')), Output(), Output(layout=Layout(width='25%'))))"
      ]
     },
     "metadata": {},
     "output_type": "display_data"
    }
   ],
   "source": [
    "# Create slider for k and distort button\n",
    "k_slider = widgets.IntSlider(value=64, min=1, max=256, description='k')\n",
    "button = widgets.Button(description = 'Distort')\n",
    "# Callback function\n",
    "def distort_callback(img, coords): \n",
    "    if len(coords) == 2: \n",
    "        # Get distortion parameters\n",
    "        k = k_slider.value\n",
    "        u = (coords[0]['y'], coords[0]['x'])\n",
    "        v = (coords[1]['y'], coords[1]['x'])\n",
    "        # Calculate new indices using the distort funciton\n",
    "        idxs = np.fromfunction(lambda i, j: distort(i, j, u[0], u[1], v[0], v[1], k=k), shape=img.shape)\n",
    "        # Cubic interpolation with map_coordinates\n",
    "        return ndimage.map_coordinates(img, idxs, order=3, mode='constant').reshape(img.shape)\n",
    "    else:\n",
    "        print('Select ', 2- len(coords), 'points more.')\n",
    "        return img\n",
    "\n",
    "# Create viewer\n",
    "plt.close('all')\n",
    "distort_view = viewer(eiffel, widgets = True, new_widgets=[k_slider, button], callbacks=[distort_callback], clickable=True, line=True)"
   ]
  },
  {
   "cell_type": "markdown",
   "metadata": {
    "deletable": false,
    "editable": false,
    "nbgrader": {
     "cell_type": "markdown",
     "checksum": "c5a4cde41db76f037305852e183686aa",
     "grade": false,
     "grade_id": "cell-4c02d6ed2df2aa9c",
     "locked": true,
     "schema_version": 3,
     "solution": false,
     "task": false
    }
   },
   "source": [
    "<div class=\"alert alert-success\">\n",
    "    \n",
    "<p><b>Congratulations on finishing the second part of the geometric transformation lab!</b></p>\n",
    "<p>\n",
    "Make sure to save your notebook (you might want to keep a copy on your personal computer) and upload it to <a href=\"https://moodle.epfl.ch/mod/assign/view.php?id=1146081\">Moodle</a>, in a zip file with other notebook of this lab.\n",
    "</p>\n",
    "</div>\n",
    "\n",
    "* Keep the name of the notebook as: *2_GT_Applications.ipynb*,\n",
    "* Name the zip file: *Geometric_transformation_lab.zip*."
   ]
  },
  {
   "cell_type": "code",
   "execution_count": null,
   "metadata": {},
   "outputs": [],
   "source": []
  }
 ],
 "metadata": {
  "kernelspec": {
   "display_name": "Python 3 (ipykernel)",
   "language": "python",
   "name": "python3"
  },
  "language_info": {
   "codemirror_mode": {
    "name": "ipython",
    "version": 3
   },
   "file_extension": ".py",
   "mimetype": "text/x-python",
   "name": "python",
   "nbconvert_exporter": "python",
   "pygments_lexer": "ipython3",
   "version": "3.8.10"
  },
  "toc": {
   "base_numbering": 1,
   "nav_menu": {},
   "number_sections": false,
   "sideBar": true,
   "skip_h1_title": false,
   "title_cell": "Table of Contents",
   "title_sidebar": "Contents",
   "toc_cell": false,
   "toc_position": {},
   "toc_section_display": true,
   "toc_window_display": false
  }
 },
 "nbformat": 4,
 "nbformat_minor": 4
}
